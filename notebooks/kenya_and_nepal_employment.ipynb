{
  "nbformat": 4,
  "nbformat_minor": 0,
  "metadata": {
    "colab": {
      "name": "world-development-indicators.ipynb",
      "provenance": [],
      "collapsed_sections": [],
      "toc_visible": true
    },
    "kernelspec": {
      "name": "python3",
      "display_name": "Python 3"
    }
  },
  "cells": [
    {
      "cell_type": "markdown",
      "metadata": {
        "id": "ROaEyHkddnYu"
      },
      "source": [
        "# An analysis of key macroeconomic indicators for Kenya and Nepal"
      ]
    },
    {
      "cell_type": "markdown",
      "metadata": {
        "id": "7JhObeoGeFzp"
      },
      "source": [
        "## Exploratory data analysis"
      ]
    },
    {
      "cell_type": "code",
      "metadata": {
        "colab": {
          "base_uri": "https://localhost:8080/"
        },
        "id": "UYbty9P-dlAF",
        "outputId": "18789cd9-08ef-4d69-80d3-6e60f1dec153"
      },
      "source": [
        "import numpy as np\n",
        "import pandas as pd\n",
        "\n",
        "# define the location of data\n",
        "DATA_DIR = \"../data/\""
      ],
      "execution_count": null,
      "outputs": [
        {
          "output_type": "stream",
          "text": [
            "Drive already mounted at /content/gdrive/; to attempt to forcibly remount, call drive.mount(\"/content/gdrive/\", force_remount=True).\n"
          ],
          "name": "stdout"
        }
      ]
    },
    {
      "cell_type": "code",
      "metadata": {
        "id": "beeaHAKchJV-"
      },
      "source": [
        "wdi_data = pd.read_csv(DATA_DIR + 'data.csv')\n",
        "\n",
        "# remove metadata rows\n",
        "wdi_data.drop(wdi_data.tail().index, inplace=True)"
      ],
      "execution_count": null,
      "outputs": []
    },
    {
      "cell_type": "code",
      "metadata": {
        "colab": {
          "base_uri": "https://localhost:8080/",
          "height": 301
        },
        "id": "K-WDiCgfiG8J",
        "outputId": "b248279b-b95e-44d0-c778-dfb33b53f841"
      },
      "source": [
        "wdi_data.tail(2)"
      ],
      "execution_count": null,
      "outputs": [
        {
          "output_type": "execute_result",
          "data": {
            "text/html": [
              "<div>\n",
              "<style scoped>\n",
              "    .dataframe tbody tr th:only-of-type {\n",
              "        vertical-align: middle;\n",
              "    }\n",
              "\n",
              "    .dataframe tbody tr th {\n",
              "        vertical-align: top;\n",
              "    }\n",
              "\n",
              "    .dataframe thead th {\n",
              "        text-align: right;\n",
              "    }\n",
              "</style>\n",
              "<table border=\"1\" class=\"dataframe\">\n",
              "  <thead>\n",
              "    <tr style=\"text-align: right;\">\n",
              "      <th></th>\n",
              "      <th>Country Name</th>\n",
              "      <th>Country Code</th>\n",
              "      <th>Series Name</th>\n",
              "      <th>Series Code</th>\n",
              "      <th>2001 [YR2001]</th>\n",
              "      <th>2002 [YR2002]</th>\n",
              "      <th>2003 [YR2003]</th>\n",
              "      <th>2004 [YR2004]</th>\n",
              "      <th>2005 [YR2005]</th>\n",
              "      <th>2006 [YR2006]</th>\n",
              "      <th>2007 [YR2007]</th>\n",
              "      <th>2008 [YR2008]</th>\n",
              "      <th>2009 [YR2009]</th>\n",
              "      <th>2010 [YR2010]</th>\n",
              "      <th>2011 [YR2011]</th>\n",
              "      <th>2012 [YR2012]</th>\n",
              "      <th>2013 [YR2013]</th>\n",
              "      <th>2014 [YR2014]</th>\n",
              "      <th>2015 [YR2015]</th>\n",
              "      <th>2016 [YR2016]</th>\n",
              "      <th>2017 [YR2017]</th>\n",
              "      <th>2018 [YR2018]</th>\n",
              "      <th>2019 [YR2019]</th>\n",
              "      <th>2020 [YR2020]</th>\n",
              "    </tr>\n",
              "  </thead>\n",
              "  <tbody>\n",
              "    <tr>\n",
              "      <th>2866</th>\n",
              "      <td>Nepal</td>\n",
              "      <td>NPL</td>\n",
              "      <td>Women's share of population ages 15+ living wi...</td>\n",
              "      <td>SH.DYN.AIDS.FE.ZS</td>\n",
              "      <td>29.3</td>\n",
              "      <td>29.4</td>\n",
              "      <td>29.4</td>\n",
              "      <td>29.3</td>\n",
              "      <td>29.2</td>\n",
              "      <td>29.2</td>\n",
              "      <td>29.3</td>\n",
              "      <td>29.8</td>\n",
              "      <td>30.6</td>\n",
              "      <td>31.7</td>\n",
              "      <td>33</td>\n",
              "      <td>34.5</td>\n",
              "      <td>36.1</td>\n",
              "      <td>37.6</td>\n",
              "      <td>38.7</td>\n",
              "      <td>39.4</td>\n",
              "      <td>39.9</td>\n",
              "      <td>40.1</td>\n",
              "      <td>40</td>\n",
              "      <td>..</td>\n",
              "    </tr>\n",
              "    <tr>\n",
              "      <th>2867</th>\n",
              "      <td>Nepal</td>\n",
              "      <td>NPL</td>\n",
              "      <td>Young people (ages 15-24) newly infected with HIV</td>\n",
              "      <td>SH.HIV.INCD.YG</td>\n",
              "      <td>1000</td>\n",
              "      <td>1000</td>\n",
              "      <td>1000</td>\n",
              "      <td>1000</td>\n",
              "      <td>1000</td>\n",
              "      <td>500</td>\n",
              "      <td>500</td>\n",
              "      <td>500</td>\n",
              "      <td>500</td>\n",
              "      <td>500</td>\n",
              "      <td>500</td>\n",
              "      <td>500</td>\n",
              "      <td>500</td>\n",
              "      <td>200</td>\n",
              "      <td>200</td>\n",
              "      <td>200</td>\n",
              "      <td>200</td>\n",
              "      <td>200</td>\n",
              "      <td>200</td>\n",
              "      <td>..</td>\n",
              "    </tr>\n",
              "  </tbody>\n",
              "</table>\n",
              "</div>"
            ],
            "text/plain": [
              "     Country Name Country Code  ... 2019 [YR2019] 2020 [YR2020]\n",
              "2866        Nepal          NPL  ...            40            ..\n",
              "2867        Nepal          NPL  ...           200            ..\n",
              "\n",
              "[2 rows x 24 columns]"
            ]
          },
          "metadata": {
            "tags": []
          },
          "execution_count": 65
        }
      ]
    },
    {
      "cell_type": "code",
      "metadata": {
        "colab": {
          "base_uri": "https://localhost:8080/",
          "height": 250
        },
        "id": "u8zpVwLykk3M",
        "outputId": "46db0174-b4d6-4e2d-eae6-215ca6ce336c"
      },
      "source": [
        "employment_data = wdi_data[wdi_data['Series Name'].str.contains('employment')]\r\n",
        "employment_data.head(2)"
      ],
      "execution_count": null,
      "outputs": [
        {
          "output_type": "execute_result",
          "data": {
            "text/html": [
              "<div>\n",
              "<style scoped>\n",
              "    .dataframe tbody tr th:only-of-type {\n",
              "        vertical-align: middle;\n",
              "    }\n",
              "\n",
              "    .dataframe tbody tr th {\n",
              "        vertical-align: top;\n",
              "    }\n",
              "\n",
              "    .dataframe thead th {\n",
              "        text-align: right;\n",
              "    }\n",
              "</style>\n",
              "<table border=\"1\" class=\"dataframe\">\n",
              "  <thead>\n",
              "    <tr style=\"text-align: right;\">\n",
              "      <th></th>\n",
              "      <th>Country Name</th>\n",
              "      <th>Country Code</th>\n",
              "      <th>Series Name</th>\n",
              "      <th>Series Code</th>\n",
              "      <th>2001 [YR2001]</th>\n",
              "      <th>2002 [YR2002]</th>\n",
              "      <th>2003 [YR2003]</th>\n",
              "      <th>2004 [YR2004]</th>\n",
              "      <th>2005 [YR2005]</th>\n",
              "      <th>2006 [YR2006]</th>\n",
              "      <th>2007 [YR2007]</th>\n",
              "      <th>2008 [YR2008]</th>\n",
              "      <th>2009 [YR2009]</th>\n",
              "      <th>2010 [YR2010]</th>\n",
              "      <th>2011 [YR2011]</th>\n",
              "      <th>2012 [YR2012]</th>\n",
              "      <th>2013 [YR2013]</th>\n",
              "      <th>2014 [YR2014]</th>\n",
              "      <th>2015 [YR2015]</th>\n",
              "      <th>2016 [YR2016]</th>\n",
              "      <th>2017 [YR2017]</th>\n",
              "      <th>2018 [YR2018]</th>\n",
              "      <th>2019 [YR2019]</th>\n",
              "      <th>2020 [YR2020]</th>\n",
              "    </tr>\n",
              "  </thead>\n",
              "  <tbody>\n",
              "    <tr>\n",
              "      <th>16</th>\n",
              "      <td>Kenya</td>\n",
              "      <td>KEN</td>\n",
              "      <td>Adequacy of unemployment benefits and ALMP (% ...</td>\n",
              "      <td>per_lm_alllm.adq_pop_tot</td>\n",
              "      <td>..</td>\n",
              "      <td>..</td>\n",
              "      <td>..</td>\n",
              "      <td>..</td>\n",
              "      <td>..</td>\n",
              "      <td>..</td>\n",
              "      <td>..</td>\n",
              "      <td>..</td>\n",
              "      <td>..</td>\n",
              "      <td>..</td>\n",
              "      <td>..</td>\n",
              "      <td>..</td>\n",
              "      <td>..</td>\n",
              "      <td>..</td>\n",
              "      <td>..</td>\n",
              "      <td>..</td>\n",
              "      <td>..</td>\n",
              "      <td>..</td>\n",
              "      <td>..</td>\n",
              "      <td>..</td>\n",
              "    </tr>\n",
              "    <tr>\n",
              "      <th>116</th>\n",
              "      <td>Kenya</td>\n",
              "      <td>KEN</td>\n",
              "      <td>Benefit incidence of unemployment benefits and...</td>\n",
              "      <td>per_lm_alllm.ben_q1_tot</td>\n",
              "      <td>..</td>\n",
              "      <td>..</td>\n",
              "      <td>..</td>\n",
              "      <td>..</td>\n",
              "      <td>..</td>\n",
              "      <td>..</td>\n",
              "      <td>..</td>\n",
              "      <td>..</td>\n",
              "      <td>..</td>\n",
              "      <td>..</td>\n",
              "      <td>..</td>\n",
              "      <td>..</td>\n",
              "      <td>..</td>\n",
              "      <td>..</td>\n",
              "      <td>..</td>\n",
              "      <td>..</td>\n",
              "      <td>..</td>\n",
              "      <td>..</td>\n",
              "      <td>..</td>\n",
              "      <td>..</td>\n",
              "    </tr>\n",
              "  </tbody>\n",
              "</table>\n",
              "</div>"
            ],
            "text/plain": [
              "    Country Name Country Code  ... 2019 [YR2019] 2020 [YR2020]\n",
              "16         Kenya          KEN  ...            ..            ..\n",
              "116        Kenya          KEN  ...            ..            ..\n",
              "\n",
              "[2 rows x 24 columns]"
            ]
          },
          "metadata": {
            "tags": []
          },
          "execution_count": 66
        }
      ]
    },
    {
      "cell_type": "code",
      "metadata": {
        "colab": {
          "base_uri": "https://localhost:8080/"
        },
        "id": "x5_q7sMyqxqe",
        "outputId": "810503b0-a122-4665-b1ed-a412a43862b5"
      },
      "source": [
        "employment_series_names = employment_data['Series Name'].unique().tolist()\r\n",
        "employment_series_names[:3]"
      ],
      "execution_count": null,
      "outputs": [
        {
          "output_type": "execute_result",
          "data": {
            "text/plain": [
              "['Adequacy of unemployment benefits and ALMP (% of total welfare of beneficiary households)',\n",
              " 'Benefit incidence of unemployment benefits and ALMP to poorest quintile (% of total U/ALMP benefits)',\n",
              " 'Child employment in agriculture (% of economically active children ages 7-14)']"
            ]
          },
          "metadata": {
            "tags": []
          },
          "execution_count": 67
        }
      ]
    },
    {
      "cell_type": "markdown",
      "metadata": {
        "id": "HexlTzkIPHaE"
      },
      "source": [
        "### Cleaning the data"
      ]
    },
    {
      "cell_type": "code",
      "metadata": {
        "colab": {
          "base_uri": "https://localhost:8080/"
        },
        "id": "xb1-kGp9Qtg6",
        "outputId": "07a72d46-496e-4e8b-fd04-7b8bd81457d6"
      },
      "source": [
        "employment_data.info()"
      ],
      "execution_count": null,
      "outputs": [
        {
          "output_type": "stream",
          "text": [
            "<class 'pandas.core.frame.DataFrame'>\n",
            "Int64Index: 174 entries, 16 to 2851\n",
            "Data columns (total 24 columns):\n",
            " #   Column         Non-Null Count  Dtype \n",
            "---  ------         --------------  ----- \n",
            " 0   Country Name   174 non-null    object\n",
            " 1   Country Code   174 non-null    object\n",
            " 2   Series Name    174 non-null    object\n",
            " 3   Series Code    174 non-null    object\n",
            " 4   2001 [YR2001]  174 non-null    object\n",
            " 5   2002 [YR2002]  174 non-null    object\n",
            " 6   2003 [YR2003]  174 non-null    object\n",
            " 7   2004 [YR2004]  174 non-null    object\n",
            " 8   2005 [YR2005]  174 non-null    object\n",
            " 9   2006 [YR2006]  174 non-null    object\n",
            " 10  2007 [YR2007]  174 non-null    object\n",
            " 11  2008 [YR2008]  174 non-null    object\n",
            " 12  2009 [YR2009]  174 non-null    object\n",
            " 13  2010 [YR2010]  174 non-null    object\n",
            " 14  2011 [YR2011]  174 non-null    object\n",
            " 15  2012 [YR2012]  174 non-null    object\n",
            " 16  2013 [YR2013]  174 non-null    object\n",
            " 17  2014 [YR2014]  174 non-null    object\n",
            " 18  2015 [YR2015]  174 non-null    object\n",
            " 19  2016 [YR2016]  174 non-null    object\n",
            " 20  2017 [YR2017]  174 non-null    object\n",
            " 21  2018 [YR2018]  174 non-null    object\n",
            " 22  2019 [YR2019]  174 non-null    object\n",
            " 23  2020 [YR2020]  174 non-null    object\n",
            "dtypes: object(24)\n",
            "memory usage: 34.0+ KB\n"
          ],
          "name": "stdout"
        }
      ]
    },
    {
      "cell_type": "code",
      "metadata": {
        "colab": {
          "base_uri": "https://localhost:8080/"
        },
        "id": "wUtbdV32PMbn",
        "outputId": "3afed0fc-2870-45a3-8bda-eddabca714d7"
      },
      "source": [
        "employment_data.replace('..', np.nan, inplace=True)\r\n",
        "\r\n",
        "employment_data.isna().sum()"
      ],
      "execution_count": null,
      "outputs": [
        {
          "output_type": "stream",
          "text": [
            "/usr/local/lib/python3.6/dist-packages/pandas/core/frame.py:4389: SettingWithCopyWarning: \n",
            "A value is trying to be set on a copy of a slice from a DataFrame\n",
            "\n",
            "See the caveats in the documentation: https://pandas.pydata.org/pandas-docs/stable/user_guide/indexing.html#returning-a-view-versus-a-copy\n",
            "  method=method,\n"
          ],
          "name": "stderr"
        },
        {
          "output_type": "execute_result",
          "data": {
            "text/plain": [
              "Country Name       0\n",
              "Country Code       0\n",
              "Series Name        0\n",
              "Series Code        0\n",
              "2001 [YR2001]    114\n",
              "2002 [YR2002]    114\n",
              "2003 [YR2003]    114\n",
              "2004 [YR2004]    114\n",
              "2005 [YR2005]    114\n",
              "2006 [YR2006]     96\n",
              "2007 [YR2007]    114\n",
              "2008 [YR2008]     66\n",
              "2009 [YR2009]    102\n",
              "2010 [YR2010]    114\n",
              "2011 [YR2011]    114\n",
              "2012 [YR2012]    114\n",
              "2013 [YR2013]    114\n",
              "2014 [YR2014]    105\n",
              "2015 [YR2015]    110\n",
              "2016 [YR2016]     93\n",
              "2017 [YR2017]     92\n",
              "2018 [YR2018]    114\n",
              "2019 [YR2019]    114\n",
              "2020 [YR2020]    172\n",
              "dtype: int64"
            ]
          },
          "metadata": {
            "tags": []
          },
          "execution_count": 69
        }
      ]
    },
    {
      "cell_type": "code",
      "metadata": {
        "colab": {
          "base_uri": "https://localhost:8080/"
        },
        "id": "jN1CjJUOmiCM",
        "outputId": "a68b5ed6-6d16-4ce1-dd24-8e6a4efde352"
      },
      "source": [
        "numeric_cols = employment_data.columns[4:]\r\n",
        "employment_data[numeric_cols] = employment_data[numeric_cols].apply(pd.to_numeric, errors='coerce', axis=1)\r\n",
        "employment_data.info()"
      ],
      "execution_count": null,
      "outputs": [
        {
          "output_type": "stream",
          "text": [
            "<class 'pandas.core.frame.DataFrame'>\n",
            "Int64Index: 174 entries, 16 to 2851\n",
            "Data columns (total 24 columns):\n",
            " #   Column         Non-Null Count  Dtype  \n",
            "---  ------         --------------  -----  \n",
            " 0   Country Name   174 non-null    object \n",
            " 1   Country Code   174 non-null    object \n",
            " 2   Series Name    174 non-null    object \n",
            " 3   Series Code    174 non-null    object \n",
            " 4   2001 [YR2001]  60 non-null     float64\n",
            " 5   2002 [YR2002]  60 non-null     float64\n",
            " 6   2003 [YR2003]  60 non-null     float64\n",
            " 7   2004 [YR2004]  60 non-null     float64\n",
            " 8   2005 [YR2005]  60 non-null     float64\n",
            " 9   2006 [YR2006]  78 non-null     float64\n",
            " 10  2007 [YR2007]  60 non-null     float64\n",
            " 11  2008 [YR2008]  108 non-null    float64\n",
            " 12  2009 [YR2009]  72 non-null     float64\n",
            " 13  2010 [YR2010]  60 non-null     float64\n",
            " 14  2011 [YR2011]  60 non-null     float64\n",
            " 15  2012 [YR2012]  60 non-null     float64\n",
            " 16  2013 [YR2013]  60 non-null     float64\n",
            " 17  2014 [YR2014]  69 non-null     float64\n",
            " 18  2015 [YR2015]  64 non-null     float64\n",
            " 19  2016 [YR2016]  81 non-null     float64\n",
            " 20  2017 [YR2017]  82 non-null     float64\n",
            " 21  2018 [YR2018]  60 non-null     float64\n",
            " 22  2019 [YR2019]  60 non-null     float64\n",
            " 23  2020 [YR2020]  2 non-null      float64\n",
            "dtypes: float64(20), object(4)\n",
            "memory usage: 34.0+ KB\n"
          ],
          "name": "stdout"
        },
        {
          "output_type": "stream",
          "text": [
            "/usr/local/lib/python3.6/dist-packages/pandas/core/frame.py:3069: SettingWithCopyWarning: \n",
            "A value is trying to be set on a copy of a slice from a DataFrame.\n",
            "Try using .loc[row_indexer,col_indexer] = value instead\n",
            "\n",
            "See the caveats in the documentation: https://pandas.pydata.org/pandas-docs/stable/user_guide/indexing.html#returning-a-view-versus-a-copy\n",
            "  self[k1] = value[k2]\n"
          ],
          "name": "stderr"
        }
      ]
    },
    {
      "cell_type": "markdown",
      "metadata": {
        "id": "y8X1obhaSViv"
      },
      "source": [
        "There are so many missing values. But let's see what we can do with the data."
      ]
    },
    {
      "cell_type": "markdown",
      "metadata": {
        "id": "9zdvWlz1rSQp"
      },
      "source": [
        "### Employment by sector"
      ]
    },
    {
      "cell_type": "code",
      "metadata": {
        "id": "1J80-jNaBtVA"
      },
      "source": [
        "sectors = ['agriculture', 'industry', 'services']\r\n",
        "gender = ['male', 'female']"
      ],
      "execution_count": null,
      "outputs": []
    },
    {
      "cell_type": "code",
      "metadata": {
        "id": "GLn2POHTTLN6"
      },
      "source": [
        "def match_column_values(df, column, string, case=False):\r\n",
        "  return df[df[column].str.contains(string, case=case)]"
      ],
      "execution_count": null,
      "outputs": []
    },
    {
      "cell_type": "code",
      "metadata": {
        "id": "2kszsPmlIMRx"
      },
      "source": [
        "employment_by_sector = match_column_values(employment_data, 'Series Name', ' | '.join(sectors))\r\n",
        "\r\n",
        "# separate child employment\r\n",
        "child_employment_idx = match_column_values(employment_by_sector, 'Series Name', 'child').index\r\n",
        "child_employment_by_sector = employment_by_sector.loc[child_employment_idx]\r\n",
        "employment_by_sector = employment_by_sector.drop(child_employment_idx)"
      ],
      "execution_count": null,
      "outputs": []
    },
    {
      "cell_type": "code",
      "metadata": {
        "colab": {
          "base_uri": "https://localhost:8080/",
          "height": 284
        },
        "id": "U2DThjnZJLYB",
        "outputId": "c41d2e7f-9a91-4317-a87a-34de5b091530"
      },
      "source": [
        "child_employment_by_sector.head(2)"
      ],
      "execution_count": null,
      "outputs": [
        {
          "output_type": "execute_result",
          "data": {
            "text/html": [
              "<div>\n",
              "<style scoped>\n",
              "    .dataframe tbody tr th:only-of-type {\n",
              "        vertical-align: middle;\n",
              "    }\n",
              "\n",
              "    .dataframe tbody tr th {\n",
              "        vertical-align: top;\n",
              "    }\n",
              "\n",
              "    .dataframe thead th {\n",
              "        text-align: right;\n",
              "    }\n",
              "</style>\n",
              "<table border=\"1\" class=\"dataframe\">\n",
              "  <thead>\n",
              "    <tr style=\"text-align: right;\">\n",
              "      <th></th>\n",
              "      <th>Country Name</th>\n",
              "      <th>Country Code</th>\n",
              "      <th>Series Name</th>\n",
              "      <th>Series Code</th>\n",
              "      <th>2001 [YR2001]</th>\n",
              "      <th>2002 [YR2002]</th>\n",
              "      <th>2003 [YR2003]</th>\n",
              "      <th>2004 [YR2004]</th>\n",
              "      <th>2005 [YR2005]</th>\n",
              "      <th>2006 [YR2006]</th>\n",
              "      <th>2007 [YR2007]</th>\n",
              "      <th>2008 [YR2008]</th>\n",
              "      <th>2009 [YR2009]</th>\n",
              "      <th>2010 [YR2010]</th>\n",
              "      <th>2011 [YR2011]</th>\n",
              "      <th>2012 [YR2012]</th>\n",
              "      <th>2013 [YR2013]</th>\n",
              "      <th>2014 [YR2014]</th>\n",
              "      <th>2015 [YR2015]</th>\n",
              "      <th>2016 [YR2016]</th>\n",
              "      <th>2017 [YR2017]</th>\n",
              "      <th>2018 [YR2018]</th>\n",
              "      <th>2019 [YR2019]</th>\n",
              "      <th>2020 [YR2020]</th>\n",
              "    </tr>\n",
              "  </thead>\n",
              "  <tbody>\n",
              "    <tr>\n",
              "      <th>147</th>\n",
              "      <td>Kenya</td>\n",
              "      <td>KEN</td>\n",
              "      <td>Child employment in agriculture (% of economic...</td>\n",
              "      <td>SL.AGR.0714.ZS</td>\n",
              "      <td>NaN</td>\n",
              "      <td>NaN</td>\n",
              "      <td>NaN</td>\n",
              "      <td>NaN</td>\n",
              "      <td>NaN</td>\n",
              "      <td>NaN</td>\n",
              "      <td>NaN</td>\n",
              "      <td>NaN</td>\n",
              "      <td>NaN</td>\n",
              "      <td>NaN</td>\n",
              "      <td>NaN</td>\n",
              "      <td>NaN</td>\n",
              "      <td>NaN</td>\n",
              "      <td>NaN</td>\n",
              "      <td>NaN</td>\n",
              "      <td>NaN</td>\n",
              "      <td>NaN</td>\n",
              "      <td>NaN</td>\n",
              "      <td>NaN</td>\n",
              "      <td>NaN</td>\n",
              "    </tr>\n",
              "    <tr>\n",
              "      <th>153</th>\n",
              "      <td>Kenya</td>\n",
              "      <td>KEN</td>\n",
              "      <td>Child employment in services (% of economicall...</td>\n",
              "      <td>SL.SRV.0714.ZS</td>\n",
              "      <td>NaN</td>\n",
              "      <td>NaN</td>\n",
              "      <td>NaN</td>\n",
              "      <td>NaN</td>\n",
              "      <td>NaN</td>\n",
              "      <td>NaN</td>\n",
              "      <td>NaN</td>\n",
              "      <td>NaN</td>\n",
              "      <td>NaN</td>\n",
              "      <td>NaN</td>\n",
              "      <td>NaN</td>\n",
              "      <td>NaN</td>\n",
              "      <td>NaN</td>\n",
              "      <td>NaN</td>\n",
              "      <td>NaN</td>\n",
              "      <td>NaN</td>\n",
              "      <td>NaN</td>\n",
              "      <td>NaN</td>\n",
              "      <td>NaN</td>\n",
              "      <td>NaN</td>\n",
              "    </tr>\n",
              "  </tbody>\n",
              "</table>\n",
              "</div>"
            ],
            "text/plain": [
              "    Country Name Country Code  ... 2019 [YR2019] 2020 [YR2020]\n",
              "147        Kenya          KEN  ...           NaN           NaN\n",
              "153        Kenya          KEN  ...           NaN           NaN\n",
              "\n",
              "[2 rows x 24 columns]"
            ]
          },
          "metadata": {
            "tags": []
          },
          "execution_count": 74
        }
      ]
    },
    {
      "cell_type": "code",
      "metadata": {
        "colab": {
          "base_uri": "https://localhost:8080/",
          "height": 250
        },
        "id": "1Iz2xP8XOFF-",
        "outputId": "64e0cf69-64b6-4132-d8c4-2ef6929c3eb6"
      },
      "source": [
        "employment_by_sector.head(2)"
      ],
      "execution_count": null,
      "outputs": [
        {
          "output_type": "execute_result",
          "data": {
            "text/html": [
              "<div>\n",
              "<style scoped>\n",
              "    .dataframe tbody tr th:only-of-type {\n",
              "        vertical-align: middle;\n",
              "    }\n",
              "\n",
              "    .dataframe tbody tr th {\n",
              "        vertical-align: top;\n",
              "    }\n",
              "\n",
              "    .dataframe thead th {\n",
              "        text-align: right;\n",
              "    }\n",
              "</style>\n",
              "<table border=\"1\" class=\"dataframe\">\n",
              "  <thead>\n",
              "    <tr style=\"text-align: right;\">\n",
              "      <th></th>\n",
              "      <th>Country Name</th>\n",
              "      <th>Country Code</th>\n",
              "      <th>Series Name</th>\n",
              "      <th>Series Code</th>\n",
              "      <th>2001 [YR2001]</th>\n",
              "      <th>2002 [YR2002]</th>\n",
              "      <th>2003 [YR2003]</th>\n",
              "      <th>2004 [YR2004]</th>\n",
              "      <th>2005 [YR2005]</th>\n",
              "      <th>2006 [YR2006]</th>\n",
              "      <th>2007 [YR2007]</th>\n",
              "      <th>2008 [YR2008]</th>\n",
              "      <th>2009 [YR2009]</th>\n",
              "      <th>2010 [YR2010]</th>\n",
              "      <th>2011 [YR2011]</th>\n",
              "      <th>2012 [YR2012]</th>\n",
              "      <th>2013 [YR2013]</th>\n",
              "      <th>2014 [YR2014]</th>\n",
              "      <th>2015 [YR2015]</th>\n",
              "      <th>2016 [YR2016]</th>\n",
              "      <th>2017 [YR2017]</th>\n",
              "      <th>2018 [YR2018]</th>\n",
              "      <th>2019 [YR2019]</th>\n",
              "      <th>2020 [YR2020]</th>\n",
              "    </tr>\n",
              "  </thead>\n",
              "  <tbody>\n",
              "    <tr>\n",
              "      <th>359</th>\n",
              "      <td>Kenya</td>\n",
              "      <td>KEN</td>\n",
              "      <td>Employment in agriculture (% of total employme...</td>\n",
              "      <td>SL.AGR.EMPL.ZS</td>\n",
              "      <td>51.50</td>\n",
              "      <td>54.279999</td>\n",
              "      <td>56.759998</td>\n",
              "      <td>58.93</td>\n",
              "      <td>61.060001</td>\n",
              "      <td>61.139999</td>\n",
              "      <td>60.970001</td>\n",
              "      <td>61.110001</td>\n",
              "      <td>60.939999</td>\n",
              "      <td>60.32</td>\n",
              "      <td>59.740002</td>\n",
              "      <td>59.220001</td>\n",
              "      <td>58.59</td>\n",
              "      <td>57.939999</td>\n",
              "      <td>57.259998</td>\n",
              "      <td>56.529999</td>\n",
              "      <td>55.860001</td>\n",
              "      <td>55.080002</td>\n",
              "      <td>54.34</td>\n",
              "      <td>NaN</td>\n",
              "    </tr>\n",
              "    <tr>\n",
              "      <th>362</th>\n",
              "      <td>Kenya</td>\n",
              "      <td>KEN</td>\n",
              "      <td>Employment in industry (% of total employment)...</td>\n",
              "      <td>SL.IND.EMPL.ZS</td>\n",
              "      <td>10.19</td>\n",
              "      <td>9.050000</td>\n",
              "      <td>8.090000</td>\n",
              "      <td>7.34</td>\n",
              "      <td>6.700000</td>\n",
              "      <td>6.460000</td>\n",
              "      <td>6.290000</td>\n",
              "      <td>6.130000</td>\n",
              "      <td>6.040000</td>\n",
              "      <td>6.01</td>\n",
              "      <td>6.010000</td>\n",
              "      <td>6.010000</td>\n",
              "      <td>6.03</td>\n",
              "      <td>6.060000</td>\n",
              "      <td>6.090000</td>\n",
              "      <td>6.130000</td>\n",
              "      <td>6.160000</td>\n",
              "      <td>6.190000</td>\n",
              "      <td>6.22</td>\n",
              "      <td>NaN</td>\n",
              "    </tr>\n",
              "  </tbody>\n",
              "</table>\n",
              "</div>"
            ],
            "text/plain": [
              "    Country Name Country Code  ... 2019 [YR2019] 2020 [YR2020]\n",
              "359        Kenya          KEN  ...         54.34           NaN\n",
              "362        Kenya          KEN  ...          6.22           NaN\n",
              "\n",
              "[2 rows x 24 columns]"
            ]
          },
          "metadata": {
            "tags": []
          },
          "execution_count": 75
        }
      ]
    },
    {
      "cell_type": "code",
      "metadata": {
        "colab": {
          "base_uri": "https://localhost:8080/"
        },
        "id": "aL_18gFqSC9u",
        "outputId": "94ed4903-1f69-48a5-b548-93aa00b7bf3c"
      },
      "source": [
        "employment_by_sector.isna().sum()"
      ],
      "execution_count": null,
      "outputs": [
        {
          "output_type": "execute_result",
          "data": {
            "text/plain": [
              "Country Name      0\n",
              "Country Code      0\n",
              "Series Name       0\n",
              "Series Code       0\n",
              "2001 [YR2001]     0\n",
              "2002 [YR2002]     0\n",
              "2003 [YR2003]     0\n",
              "2004 [YR2004]     0\n",
              "2005 [YR2005]     0\n",
              "2006 [YR2006]     0\n",
              "2007 [YR2007]     0\n",
              "2008 [YR2008]     0\n",
              "2009 [YR2009]     0\n",
              "2010 [YR2010]     0\n",
              "2011 [YR2011]     0\n",
              "2012 [YR2012]     0\n",
              "2013 [YR2013]     0\n",
              "2014 [YR2014]     0\n",
              "2015 [YR2015]     0\n",
              "2016 [YR2016]     0\n",
              "2017 [YR2017]     0\n",
              "2018 [YR2018]     0\n",
              "2019 [YR2019]     0\n",
              "2020 [YR2020]    10\n",
              "dtype: int64"
            ]
          },
          "metadata": {
            "tags": []
          },
          "execution_count": 76
        }
      ]
    },
    {
      "cell_type": "code",
      "metadata": {
        "id": "SdHpX9LLSPV4"
      },
      "source": [
        "from matplotlib import pyplot as pyplot\r\n",
        "import seaborn as sns\r\n",
        "\r\n",
        "sns.set()"
      ],
      "execution_count": null,
      "outputs": []
    },
    {
      "cell_type": "code",
      "metadata": {
        "id": "14DX1OdmSpp2"
      },
      "source": [
        "agriculture = match_column_values(employment_by_sector, 'Series Name', 'agriculture')\r\n",
        "industry = match_column_values(employment_by_sector, 'Series Name', 'industry')\r\n",
        "services = match_column_values(employment_by_sector, 'Series Name', 'services')"
      ],
      "execution_count": null,
      "outputs": []
    },
    {
      "cell_type": "markdown",
      "metadata": {
        "id": "pK6MkrnTzuRJ"
      },
      "source": [
        "# Insight on Employment Rate VS Year\r\n",
        "The graphs below represents the comparison between Employment Rates VS Year for two countries: Kenya and Nepal. It illustrates how the employment data for these countries have changed over the year. The vertical axis shows the Industry Based Employment Rate. And the horizontal axis represents the total span of years from 2001 to 2019. There graph illustrates the comparison of two datasets: Kenya and Nepal. The blue dots depict the graph for Kenya, and the orange dots represent Nepal. "
      ]
    },
    {
      "cell_type": "code",
      "metadata": {
        "colab": {
          "base_uri": "https://localhost:8080/",
          "height": 315
        },
        "id": "owh5EE87Svmz",
        "outputId": "e7990995-11e7-4d98-bea1-eb2175f8d721"
      },
      "source": [
        "agriculture = agriculture.T.reset_index().drop([0,1,2,3]).set_index('index').dropna()\r\n",
        "agriculture.columns = ['Kenya', 'Nepal']\r\n",
        "agriculture.plot(marker = 'o', grid = True)\r\n",
        "pyplot.title('Agriculture Based Employment Rate VS Year', fontsize = 12.5)\r\n",
        "pyplot.xlabel('Year', fontsize = 12.5)\r\n",
        "pyplot.ylabel('Agriculture Based Employment Rate', fontsize = 12.5)"
      ],
      "execution_count": null,
      "outputs": [
        {
          "output_type": "execute_result",
          "data": {
            "text/plain": [
              "Text(0, 0.5, 'Agriculture Based Employment Rate')"
            ]
          },
          "metadata": {
            "tags": []
          },
          "execution_count": 92
        },
        {
          "output_type": "display_data",
          "data": {
            "image/png": "[encoded data removed]",
            "text/plain": [
              "<Figure size 432x288 with 1 Axes>"
            ]
          },
          "metadata": {
            "tags": [],
            "needs_background": "light"
          }
        }
      ]
    },
    {
      "cell_type": "markdown",
      "metadata": {
        "id": "4HKhhgRdy7Gw"
      },
      "source": [
        "# Insight on Agriculture Based Employment Rate VS Year\r\n",
        "It can be seen that over the span of 19 years, there's a *steady fall* in agricultural employment rate for Nepal. For instance, the rate decreased by **10.21** percentage points from *74.59* to *64.38* percent. Whereas, for Kenya, there's a *gradual increase* till the year 2005 - it had risen by **9.56** percentage points reaching *61.06* from an initial *51.50* percent. It fluctuated around the same range for a few years until 2010. Then, it started to *steadily decline* with an fall of **5.98** percentage points for the past 9 years reaching *54.34* from *60.32* percent. "
      ]
    },
    {
      "cell_type": "code",
      "metadata": {
        "colab": {
          "base_uri": "https://localhost:8080/",
          "height": 315
        },
        "id": "Mq_PaqSXlT1g",
        "outputId": "d3fa994b-3e20-449c-f47c-78d1dd43b837"
      },
      "source": [
        "industry = industry.T.reset_index().drop([0,1,2,3]).set_index('index').dropna()\r\n",
        "industry.columns = ['Kenya', 'Nepal']\r\n",
        "industry.plot(marker = 'o', grid = True)\r\n",
        "pyplot.title('Industry Based Employment Rate VS Year', fontsize = 12.5)\r\n",
        "pyplot.xlabel('Year', fontsize = 12.5)\r\n",
        "pyplot.ylabel('Industry Based Employment Rate', fontsize = 12.5)"
      ],
      "execution_count": null,
      "outputs": [
        {
          "output_type": "execute_result",
          "data": {
            "text/plain": [
              "Text(0, 0.5, 'Industry Based Employment Rate')"
            ]
          },
          "metadata": {
            "tags": []
          },
          "execution_count": 96
        },
        {
          "output_type": "display_data",
          "data": {
            "image/png": "[encoded data removed]",
            "text/plain": [
              "<Figure size 432x288 with 1 Axes>"
            ]
          },
          "metadata": {
            "tags": [],
            "needs_background": "light"
          }
        }
      ]
    },
    {
      "cell_type": "markdown",
      "metadata": {
        "id": "PqnpdncbhoGP"
      },
      "source": [
        "# Insight on Industry Based Employment Rate VS Year\r\n",
        "If we look over time, we can see that there's a *steady increase* in industrial employment rate for Nepal. For instance, over 19 years, the rate increased by **4.13** percentage points from *10.98* to *15.11*. Whereas, for Kenya, there's a *gradual exponential decline* till the year 2012 - it has decreased by **4.18** percentage points reaching *6.01* from *10.09*. But after that it's slowly starting to climb with an increase of **0.21** percentage points for the past 8 years ending up at *6.22*. \r\n"
      ]
    },
    {
      "cell_type": "code",
      "metadata": {
        "id": "LyEfH9G9paVh"
      },
      "source": [
        "# services = services.T.reset_index().drop([0,1,2,3]).set_index('index').dropna()\r\n",
        "# services.columns = ['Kenya', 'Nepal']\r\n",
        "# services.plot()"
      ],
      "execution_count": null,
      "outputs": []
    },
    {
      "cell_type": "code",
      "metadata": {
        "colab": {
          "base_uri": "https://localhost:8080/",
          "height": 578
        },
        "id": "N3o0WsTvqKwj",
        "outputId": "51860b97-85af-435d-ff95-defb2a40f908"
      },
      "source": [
        "services"
      ],
      "execution_count": null,
      "outputs": [
        {
          "output_type": "execute_result",
          "data": {
            "text/html": [
              "<div>\n",
              "<style scoped>\n",
              "    .dataframe tbody tr th:only-of-type {\n",
              "        vertical-align: middle;\n",
              "    }\n",
              "\n",
              "    .dataframe tbody tr th {\n",
              "        vertical-align: top;\n",
              "    }\n",
              "\n",
              "    .dataframe thead th {\n",
              "        text-align: right;\n",
              "    }\n",
              "</style>\n",
              "<table border=\"1\" class=\"dataframe\">\n",
              "  <thead>\n",
              "    <tr style=\"text-align: right;\">\n",
              "      <th></th>\n",
              "      <th>Country Name</th>\n",
              "      <th>Country Code</th>\n",
              "      <th>Series Name</th>\n",
              "      <th>Series Code</th>\n",
              "      <th>2001 [YR2001]</th>\n",
              "      <th>2002 [YR2002]</th>\n",
              "      <th>2003 [YR2003]</th>\n",
              "      <th>2004 [YR2004]</th>\n",
              "      <th>2005 [YR2005]</th>\n",
              "      <th>2006 [YR2006]</th>\n",
              "      <th>2007 [YR2007]</th>\n",
              "      <th>2008 [YR2008]</th>\n",
              "      <th>2009 [YR2009]</th>\n",
              "      <th>2010 [YR2010]</th>\n",
              "      <th>2011 [YR2011]</th>\n",
              "      <th>2012 [YR2012]</th>\n",
              "      <th>2013 [YR2013]</th>\n",
              "      <th>2014 [YR2014]</th>\n",
              "      <th>2015 [YR2015]</th>\n",
              "      <th>2016 [YR2016]</th>\n",
              "      <th>2017 [YR2017]</th>\n",
              "      <th>2018 [YR2018]</th>\n",
              "      <th>2019 [YR2019]</th>\n",
              "      <th>2020 [YR2020]</th>\n",
              "    </tr>\n",
              "  </thead>\n",
              "  <tbody>\n",
              "    <tr>\n",
              "      <th>365</th>\n",
              "      <td>Kenya</td>\n",
              "      <td>KEN</td>\n",
              "      <td>Employment in services (% of total employment)...</td>\n",
              "      <td>SL.SRV.EMPL.ZS</td>\n",
              "      <td>38.320000</td>\n",
              "      <td>36.669998</td>\n",
              "      <td>35.150002</td>\n",
              "      <td>33.730000</td>\n",
              "      <td>32.240002</td>\n",
              "      <td>32.400002</td>\n",
              "      <td>32.740002</td>\n",
              "      <td>32.770000</td>\n",
              "      <td>33.029999</td>\n",
              "      <td>33.680000</td>\n",
              "      <td>34.250000</td>\n",
              "      <td>34.770000</td>\n",
              "      <td>35.380001</td>\n",
              "      <td>36.000000</td>\n",
              "      <td>36.650002</td>\n",
              "      <td>37.330002</td>\n",
              "      <td>37.980000</td>\n",
              "      <td>38.730000</td>\n",
              "      <td>39.439999</td>\n",
              "      <td>NaN</td>\n",
              "    </tr>\n",
              "    <tr>\n",
              "      <th>366</th>\n",
              "      <td>Kenya</td>\n",
              "      <td>KEN</td>\n",
              "      <td>Employment in services, female (% of female em...</td>\n",
              "      <td>SL.SRV.EMPL.FE.ZS</td>\n",
              "      <td>34.470001</td>\n",
              "      <td>33.130001</td>\n",
              "      <td>31.900000</td>\n",
              "      <td>30.740000</td>\n",
              "      <td>29.590000</td>\n",
              "      <td>29.590000</td>\n",
              "      <td>29.930000</td>\n",
              "      <td>30.280001</td>\n",
              "      <td>30.770000</td>\n",
              "      <td>31.490000</td>\n",
              "      <td>32.230000</td>\n",
              "      <td>32.970001</td>\n",
              "      <td>33.759998</td>\n",
              "      <td>34.580002</td>\n",
              "      <td>35.450001</td>\n",
              "      <td>36.320000</td>\n",
              "      <td>37.230000</td>\n",
              "      <td>38.139999</td>\n",
              "      <td>39.040001</td>\n",
              "      <td>NaN</td>\n",
              "    </tr>\n",
              "    <tr>\n",
              "      <th>367</th>\n",
              "      <td>Kenya</td>\n",
              "      <td>KEN</td>\n",
              "      <td>Employment in services, male (% of male employ...</td>\n",
              "      <td>SL.SRV.EMPL.MA.ZS</td>\n",
              "      <td>41.980000</td>\n",
              "      <td>39.990002</td>\n",
              "      <td>38.139999</td>\n",
              "      <td>36.439999</td>\n",
              "      <td>34.590000</td>\n",
              "      <td>34.910000</td>\n",
              "      <td>35.270000</td>\n",
              "      <td>35.020000</td>\n",
              "      <td>35.080002</td>\n",
              "      <td>35.680000</td>\n",
              "      <td>36.110001</td>\n",
              "      <td>36.439999</td>\n",
              "      <td>36.889999</td>\n",
              "      <td>37.320000</td>\n",
              "      <td>37.779999</td>\n",
              "      <td>38.290001</td>\n",
              "      <td>38.700001</td>\n",
              "      <td>39.290001</td>\n",
              "      <td>39.820000</td>\n",
              "      <td>NaN</td>\n",
              "    </tr>\n",
              "    <tr>\n",
              "      <th>1799</th>\n",
              "      <td>Nepal</td>\n",
              "      <td>NPL</td>\n",
              "      <td>Employment in services (% of total employment)...</td>\n",
              "      <td>SL.SRV.EMPL.ZS</td>\n",
              "      <td>14.430000</td>\n",
              "      <td>14.600000</td>\n",
              "      <td>14.850000</td>\n",
              "      <td>15.120000</td>\n",
              "      <td>15.390000</td>\n",
              "      <td>15.670000</td>\n",
              "      <td>15.970000</td>\n",
              "      <td>16.309999</td>\n",
              "      <td>16.650000</td>\n",
              "      <td>16.969999</td>\n",
              "      <td>17.309999</td>\n",
              "      <td>17.730000</td>\n",
              "      <td>18.120001</td>\n",
              "      <td>18.549999</td>\n",
              "      <td>18.940001</td>\n",
              "      <td>19.290001</td>\n",
              "      <td>19.709999</td>\n",
              "      <td>20.110001</td>\n",
              "      <td>20.520000</td>\n",
              "      <td>NaN</td>\n",
              "    </tr>\n",
              "    <tr>\n",
              "      <th>1800</th>\n",
              "      <td>Nepal</td>\n",
              "      <td>NPL</td>\n",
              "      <td>Employment in services, female (% of female em...</td>\n",
              "      <td>SL.SRV.EMPL.FE.ZS</td>\n",
              "      <td>10.150000</td>\n",
              "      <td>10.410000</td>\n",
              "      <td>10.670000</td>\n",
              "      <td>10.970000</td>\n",
              "      <td>11.250000</td>\n",
              "      <td>11.510000</td>\n",
              "      <td>11.800000</td>\n",
              "      <td>12.160000</td>\n",
              "      <td>12.600000</td>\n",
              "      <td>13.100000</td>\n",
              "      <td>13.610000</td>\n",
              "      <td>14.090000</td>\n",
              "      <td>14.570000</td>\n",
              "      <td>15.110000</td>\n",
              "      <td>15.590000</td>\n",
              "      <td>15.990000</td>\n",
              "      <td>16.450001</td>\n",
              "      <td>16.889999</td>\n",
              "      <td>17.299999</td>\n",
              "      <td>NaN</td>\n",
              "    </tr>\n",
              "    <tr>\n",
              "      <th>1801</th>\n",
              "      <td>Nepal</td>\n",
              "      <td>NPL</td>\n",
              "      <td>Employment in services, male (% of male employ...</td>\n",
              "      <td>SL.SRV.EMPL.MA.ZS</td>\n",
              "      <td>18.490000</td>\n",
              "      <td>18.590000</td>\n",
              "      <td>18.820000</td>\n",
              "      <td>19.070000</td>\n",
              "      <td>19.340000</td>\n",
              "      <td>19.639999</td>\n",
              "      <td>19.940001</td>\n",
              "      <td>20.260000</td>\n",
              "      <td>20.559999</td>\n",
              "      <td>20.780001</td>\n",
              "      <td>21.100000</td>\n",
              "      <td>21.660000</td>\n",
              "      <td>22.150000</td>\n",
              "      <td>22.670000</td>\n",
              "      <td>23.120001</td>\n",
              "      <td>23.490000</td>\n",
              "      <td>23.870001</td>\n",
              "      <td>24.230000</td>\n",
              "      <td>24.580000</td>\n",
              "      <td>NaN</td>\n",
              "    </tr>\n",
              "  </tbody>\n",
              "</table>\n",
              "</div>"
            ],
            "text/plain": [
              "     Country Name Country Code  ... 2019 [YR2019] 2020 [YR2020]\n",
              "365         Kenya          KEN  ...     39.439999           NaN\n",
              "366         Kenya          KEN  ...     39.040001           NaN\n",
              "367         Kenya          KEN  ...     39.820000           NaN\n",
              "1799        Nepal          NPL  ...     20.520000           NaN\n",
              "1800        Nepal          NPL  ...     17.299999           NaN\n",
              "1801        Nepal          NPL  ...     24.580000           NaN\n",
              "\n",
              "[6 rows x 24 columns]"
            ]
          },
          "metadata": {
            "tags": []
          },
          "execution_count": 61
        }
      ]
    },
    {
      "cell_type": "code",
      "metadata": {
        "id": "DDrA_-QpqWzk"
      },
      "source": [
        "# TODO: male, female and total employment graphs for Kenya and Nepal"
      ],
      "execution_count": null,
      "outputs": []
    }
  ]
}