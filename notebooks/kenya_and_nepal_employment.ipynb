{
  "nbformat": 4,
  "nbformat_minor": 0,
  "metadata": {
    "colab": {
      "name": "kenya_and_nepal_employment",
      "provenance": [],
      "collapsed_sections": [],
      "toc_visible": true
    },
    "kernelspec": {
      "name": "python3",
      "display_name": "Python 3"
    }
  },
  "cells": [
    {
      "cell_type": "markdown",
      "metadata": {
        "id": "ROaEyHkddnYu"
      },
      "source": [
        "# An analysis of key macroeconomic indicators for Kenya and Nepal"
      ]
    },
    {
      "cell_type": "markdown",
      "metadata": {
        "id": "qfbQGwbEEEoN"
      },
      "source": [
        "## About the project\r\n",
        "The _Data Warriors_ is a team of two individuals - Harison and Nirjal - from Kenya and Nepal respectively, who wanted to work on a data analysis project in the KU Hackfest. The initial idea was on assessing the impact of the Covid-19 pandemic on jobs, with reference to SDG goal 1 (No poverty) and goal 8 (decent work and economic growth). However, the motive of the project shifted to doing exploratory data analysis on employment data for the last 19 years after finding a lot of missing data for 2020, which we thought was crucial for the initial analysis.\r\n"
      ]
    },
    {
      "cell_type": "markdown",
      "metadata": {
        "id": "7JhObeoGeFzp"
      },
      "source": [
        "## Exploratory data analysis"
      ]
    },
    {
      "cell_type": "code",
      "metadata": {
        "id": "UYbty9P-dlAF"
      },
      "source": [
        "import os\r\n",
        "import urllib.request\r\n",
        "\r\n",
        "import numpy as np\r\n",
        "import pandas as pd"
      ],
      "execution_count": null,
      "outputs": []
    },
    {
      "cell_type": "code",
      "metadata": {
        "id": "fRJtiT3_RwK8"
      },
      "source": [
        "DATA_DIR = \"../data/\"\r\n",
        "WDI_DATA_URL = \"https://media.githubusercontent.com/media/harisonmg/kenep/main/data/data.csv\"\r\n",
        "\r\n",
        "# function to download the data\r\n",
        "def fetch_wdi_data(data_path=DATA_DIR, data_url=WDI_DATA_URL, file_name='data.csv'):\r\n",
        "    if not os.path.isdir(data_path):\r\n",
        "        os.makedirs(data_path)\r\n",
        "      \r\n",
        "    data_filepath = data_path + file_name\r\n",
        "    if not os.path.isfile(data_filepath):\r\n",
        "      urllib.request.urlretrieve(data_url, data_filepath)\r\n",
        "\r\n",
        "fetch_wdi_data()"
      ],
      "execution_count": null,
      "outputs": []
    },
    {
      "cell_type": "code",
      "metadata": {
        "id": "MQ3viF1dRuOG"
      },
      "source": [
        "wdi_data = pd.read_csv(DATA_DIR + 'data.csv')"
      ],
      "execution_count": null,
      "outputs": []
    },
    {
      "cell_type": "code",
      "metadata": {
        "colab": {
          "base_uri": "https://localhost:8080/",
          "height": 906
        },
        "id": "K-WDiCgfiG8J",
        "outputId": "d841feef-d670-4dc6-b2a7-5fff34a9281a"
      },
      "source": [
        "wdi_data.tail(10)"
      ],
      "execution_count": null,
      "outputs": [
        {
          "output_type": "execute_result",
          "data": {
            "text/html": [
              "<div>\n",
              "<style scoped>\n",
              "    .dataframe tbody tr th:only-of-type {\n",
              "        vertical-align: middle;\n",
              "    }\n",
              "\n",
              "    .dataframe tbody tr th {\n",
              "        vertical-align: top;\n",
              "    }\n",
              "\n",
              "    .dataframe thead th {\n",
              "        text-align: right;\n",
              "    }\n",
              "</style>\n",
              "<table border=\"1\" class=\"dataframe\">\n",
              "  <thead>\n",
              "    <tr style=\"text-align: right;\">\n",
              "      <th></th>\n",
              "      <th>Country Name</th>\n",
              "      <th>Country Code</th>\n",
              "      <th>Series Name</th>\n",
              "      <th>Series Code</th>\n",
              "      <th>2001 [YR2001]</th>\n",
              "      <th>2002 [YR2002]</th>\n",
              "      <th>2003 [YR2003]</th>\n",
              "      <th>2004 [YR2004]</th>\n",
              "      <th>2005 [YR2005]</th>\n",
              "      <th>2006 [YR2006]</th>\n",
              "      <th>2007 [YR2007]</th>\n",
              "      <th>2008 [YR2008]</th>\n",
              "      <th>2009 [YR2009]</th>\n",
              "      <th>2010 [YR2010]</th>\n",
              "      <th>2011 [YR2011]</th>\n",
              "      <th>2012 [YR2012]</th>\n",
              "      <th>2013 [YR2013]</th>\n",
              "      <th>2014 [YR2014]</th>\n",
              "      <th>2015 [YR2015]</th>\n",
              "      <th>2016 [YR2016]</th>\n",
              "      <th>2017 [YR2017]</th>\n",
              "      <th>2018 [YR2018]</th>\n",
              "      <th>2019 [YR2019]</th>\n",
              "      <th>2020 [YR2020]</th>\n",
              "    </tr>\n",
              "  </thead>\n",
              "  <tbody>\n",
              "    <tr>\n",
               "      <th>2863</th>\n",
              "      <td>Nepal</td>\n",
              "      <td>NPL</td>\n",
              "      <td>Women who believe a husband is justified in be...</td>\n",
              "      <td>SG.VAW.REFU.ZS</td>\n",
              "      <td>3.1</td>\n",
              "      <td>..</td>\n",
              "      <td>..</td>\n",
              "      <td>..</td>\n",
              "      <td>..</td>\n",
              "      <td>2.5</td>\n",
              "      <td>..</td>\n",
              "      <td>..</td>\n",
              "      <td>..</td>\n",
              "      <td>..</td>\n",
              "      <td>0.2</td>\n",
              "      <td>..</td>\n",
              "      <td>..</td>\n",
              "      <td>..</td>\n",
              "      <td>..</td>\n",
              "      <td>3</td>\n",
              "      <td>..</td>\n",
              "      <td>..</td>\n",
              "      <td>..</td>\n",
              "      <td>..</td>\n",
              "    </tr>\n",
              "    <tr>\n",
              "      <th>2864</th>\n",
              "      <td>Nepal</td>\n",
              "      <td>NPL</td>\n",
              "      <td>Women who were first married by age 15 (% of w...</td>\n",
              "      <td>SP.M15.2024.FE.ZS</td>\n",
              "      <td>14.1</td>\n",
              "      <td>..</td>\n",
              "      <td>..</td>\n",
              "      <td>..</td>\n",
              "      <td>..</td>\n",
              "      <td>10.2</td>\n",
              "      <td>..</td>\n",
              "      <td>..</td>\n",
              "      <td>..</td>\n",
              "      <td>..</td>\n",
              "      <td>10.1</td>\n",
              "      <td>..</td>\n",
              "      <td>..</td>\n",
              "      <td>..</td>\n",
              "      <td>..</td>\n",
              "      <td>7</td>\n",
              "      <td>..</td>\n",
              "      <td>..</td>\n",
              "      <td>..</td>\n",
              "      <td>..</td>\n",
              "    </tr>\n",
              "    <tr>\n",
              "      <th>2865</th>\n",
              "      <td>Nepal</td>\n",
              "      <td>NPL</td>\n",
              "      <td>Women who were first married by age 18 (% of w...</td>\n",
              "      <td>SP.M18.2024.FE.ZS</td>\n",
              "      <td>56.1</td>\n",
              "      <td>..</td>\n",
              "      <td>..</td>\n",
              "      <td>..</td>\n",
              "      <td>..</td>\n",
              "      <td>51.4</td>\n",
              "      <td>..</td>\n",
              "      <td>..</td>\n",
              "      <td>..</td>\n",
              "      <td>..</td>\n",
              "      <td>40.7</td>\n",
              "      <td>..</td>\n",
              "      <td>..</td>\n",
              "      <td>36.6</td>\n",
              "      <td>..</td>\n",
              "      <td>39.5</td>\n",
              "      <td>..</td>\n",
              "      <td>..</td>\n",
              "      <td>..</td>\n",
              "      <td>..</td>\n",
              "    </tr>\n",
              "    <tr>\n",
              "      <th>2866</th>\n",
              "      <td>Nepal</td>\n",
              "      <td>NPL</td>\n",
              "      <td>Women's share of population ages 15+ living wi...</td>\n",
              "      <td>SH.DYN.AIDS.FE.ZS</td>\n",
              "      <td>29.3</td>\n",
              "      <td>29.4</td>\n",
              "      <td>29.4</td>\n",
              "      <td>29.3</td>\n",
              "      <td>29.2</td>\n",
              "      <td>29.2</td>\n",
              "      <td>29.3</td>\n",
              "      <td>29.8</td>\n",
              "      <td>30.6</td>\n",
              "      <td>31.7</td>\n",
              "      <td>33</td>\n",
              "      <td>34.5</td>\n",
              "      <td>36.1</td>\n",
              "      <td>37.6</td>\n",
              "      <td>38.7</td>\n",
              "      <td>39.4</td>\n",
              "      <td>39.9</td>\n",
              "      <td>40.1</td>\n",
              "      <td>40</td>\n",
              "      <td>..</td>\n",
              "    </tr>\n",
              "    <tr>\n",
              "      <th>2867</th>\n",
              "      <td>Nepal</td>\n",
              "      <td>NPL</td>\n",
              "      <td>Young people (ages 15-24) newly infected with HIV</td>\n",
              "      <td>SH.HIV.INCD.YG</td>\n",
              "      <td>1000</td>\n",
              "      <td>1000</td>\n",
              "      <td>1000</td>\n",
              "      <td>1000</td>\n",
              "      <td>1000</td>\n",
              "      <td>500</td>\n",
              "      <td>500</td>\n",
              "      <td>500</td>\n",
              "      <td>500</td>\n",
              "      <td>500</td>\n",
              "      <td>500</td>\n",
              "      <td>500</td>\n",
              "      <td>500</td>\n",
              "      <td>200</td>\n",
              "      <td>200</td>\n",
              "      <td>200</td>\n",
              "      <td>200</td>\n",
              "      <td>200</td>\n",
              "      <td>200</td>\n",
              "      <td>..</td>\n",
              "    </tr>\n",
              "    <tr>\n",
              "      <th>2868</th>\n",
              "      <td>NaN</td>\n",
              "      <td>NaN</td>\n",
              "      <td>NaN</td>\n",
              "      <td>NaN</td>\n",
              "      <td>NaN</td>\n",
              "      <td>NaN</td>\n",
              "      <td>NaN</td>\n",
              "      <td>NaN</td>\n",
              "      <td>NaN</td>\n",
              "      <td>NaN</td>\n",
              "      <td>NaN</td>\n",
              "      <td>NaN</td>\n",
              "      <td>NaN</td>\n",
              "      <td>NaN</td>\n",
              "      <td>NaN</td>\n",
              "      <td>NaN</td>\n",
              "      <td>NaN</td>\n",
              "      <td>NaN</td>\n",
              "      <td>NaN</td>\n",
              "      <td>NaN</td>\n",
              "      <td>NaN</td>\n",
              "      <td>NaN</td>\n",
              "      <td>NaN</td>\n",
              "      <td>NaN</td>\n",
              "    </tr>\n",
              "    <tr>\n",
              "      <th>2869</th>\n",
              "      <td>NaN</td>\n",
              "      <td>NaN</td>\n",
              "      <td>NaN</td>\n",
              "      <td>NaN</td>\n",
              "      <td>NaN</td>\n",
              "      <td>NaN</td>\n",
              "      <td>NaN</td>\n",
              "      <td>NaN</td>\n",
              "      <td>NaN</td>\n",
              "      <td>NaN</td>\n",
              "      <td>NaN</td>\n",
              "      <td>NaN</td>\n",
              "      <td>NaN</td>\n",
              "      <td>NaN</td>\n",
              "      <td>NaN</td>\n",
              "      <td>NaN</td>\n",
              "      <td>NaN</td>\n",
              "      <td>NaN</td>\n",
              "      <td>NaN</td>\n",
              "      <td>NaN</td>\n",
              "      <td>NaN</td>\n",
              "      <td>NaN</td>\n",
              "      <td>NaN</td>\n",
              "      <td>NaN</td>\n",
              "    </tr>\n",
              "    <tr>\n",
              "      <th>2870</th>\n",
              "      <td>NaN</td>\n",
              "      <td>NaN</td>\n",
              "      <td>NaN</td>\n",
              "      <td>NaN</td>\n",
              "      <td>NaN</td>\n",
              "      <td>NaN</td>\n",
              "      <td>NaN</td>\n",
              "      <td>NaN</td>\n",
              "      <td>NaN</td>\n",
              "      <td>NaN</td>\n",
              "      <td>NaN</td>\n",
              "      <td>NaN</td>\n",
              "      <td>NaN</td>\n",
              "      <td>NaN</td>\n",
              "      <td>NaN</td>\n",
              "      <td>NaN</td>\n",
              "      <td>NaN</td>\n",
              "      <td>NaN</td>\n",
              "      <td>NaN</td>\n",
              "      <td>NaN</td>\n",
              "      <td>NaN</td>\n",
              "      <td>NaN</td>\n",
              "      <td>NaN</td>\n",
              "      <td>NaN</td>\n",
              "    </tr>\n",
              "    <tr>\n",
              "      <th>2871</th>\n",
              "      <td>Data from database: World Development Indicators</td>\n",
              "      <td>NaN</td>\n",
              "      <td>NaN</td>\n",
              "      <td>NaN</td>\n",
              "      <td>NaN</td>\n",
              "      <td>NaN</td>\n",
              "      <td>NaN</td>\n",
              "      <td>NaN</td>\n",
              "      <td>NaN</td>\n",
              "      <td>NaN</td>\n",
              "      <td>NaN</td>\n",
              "      <td>NaN</td>\n",
              "      <td>NaN</td>\n",
              "      <td>NaN</td>\n",
              "      <td>NaN</td>\n",
              "      <td>NaN</td>\n",
              "      <td>NaN</td>\n",
              "      <td>NaN</td>\n",
              "      <td>NaN</td>\n",
              "      <td>NaN</td>\n",
              "      <td>NaN</td>\n",
              "      <td>NaN</td>\n",
              "      <td>NaN</td>\n",
              "      <td>NaN</td>\n",
              "    </tr>\n",
              "    <tr>\n",
              "      <th>2872</th>\n",
              "      <td>Last Updated: 02/17/2021</td>\n",
              "      <td>NaN</td>\n",
              "      <td>NaN</td>\n",
              "      <td>NaN</td>\n",
              "      <td>NaN</td>\n",
              "      <td>NaN</td>\n",
              "      <td>NaN</td>\n",
              "      <td>NaN</td>\n",
              "      <td>NaN</td>\n",
              "      <td>NaN</td>\n",
              "      <td>NaN</td>\n",
              "      <td>NaN</td>\n",
              "      <td>NaN</td>\n",
              "      <td>NaN</td>\n",
              "      <td>NaN</td>\n",
              "      <td>NaN</td>\n",
              "      <td>NaN</td>\n",
              "      <td>NaN</td>\n",
              "      <td>NaN</td>\n",
              "      <td>NaN</td>\n",
              "      <td>NaN</td>\n",
              "      <td>NaN</td>\n",
              "      <td>NaN</td>\n",
              "      <td>NaN</td>\n",
              "    </tr>\n",
              "  </tbody>\n",
              "</table>\n",
              "</div>"
            ],
            "text/plain": [
              "                                          Country Name  ... 2020 [YR2020]\n",
              "2863                                             Nepal  ...            ..\n",
              "2864                                             Nepal  ...            ..\n",
              "2865                                             Nepal  ...            ..\n",
              "2866                                             Nepal  ...            ..\n",
              "2867                                             Nepal  ...            ..\n",
              "2868                                               NaN  ...           NaN\n",
              "2869                                               NaN  ...           NaN\n",
              "2870                                               NaN  ...           NaN\n",
              "2871  Data from database: World Development Indicators  ...           NaN\n",
              "2872                          Last Updated: 02/17/2021  ...           NaN\n",
              "\n",
              "[10 rows x 24 columns]"
            ]
          },
          "metadata": {
            "tags": []
          },
          "execution_count": 156
        }
      ]
    },
    {
      "cell_type": "markdown",
      "metadata": {
        "id": "HexlTzkIPHaE"
      },
      "source": [
        "### Cleaning the data"
      ]
    },
    {
      "cell_type": "code",
      "metadata": {
        "colab": {
          "base_uri": "https://localhost:8080/"
        },
        "id": "xb1-kGp9Qtg6",
        "outputId": "6fdd701c-a5d4-4937-cde4-c6533c2cedb8"
      },
      "source": [
        "wdi_data.info()"
      ],
      "execution_count": null,
      "outputs": [
        {
          "output_type": "stream",
          "text": [
            "<class 'pandas.core.frame.DataFrame'>\n",
            "RangeIndex: 2873 entries, 0 to 2872\n",
            "Data columns (total 24 columns):\n",
            " #   Column         Non-Null Count  Dtype \n",
            "---  ------         --------------  ----- \n",
            " 0   Country Name   2870 non-null   object\n",
            " 1   Country Code   2868 non-null   object\n",
            " 2   Series Name    2868 non-null   object\n",
            " 3   Series Code    2868 non-null   object\n",
            " 4   2001 [YR2001]  2868 non-null   object\n",
            " 5   2002 [YR2002]  2868 non-null   object\n",
            " 6   2003 [YR2003]  2868 non-null   object\n",
            " 7   2004 [YR2004]  2868 non-null   object\n",
            " 8   2005 [YR2005]  2868 non-null   object\n",
            " 9   2006 [YR2006]  2868 non-null   object\n",
            " 10  2007 [YR2007]  2868 non-null   object\n",
            " 11  2008 [YR2008]  2868 non-null   object\n",
            " 12  2009 [YR2009]  2868 non-null   object\n",
            " 13  2010 [YR2010]  2868 non-null   object\n",
            " 14  2011 [YR2011]  2868 non-null   object\n",
            " 15  2012 [YR2012]  2868 non-null   object\n",
            " 16  2013 [YR2013]  2868 non-null   object\n",
            " 17  2014 [YR2014]  2868 non-null   object\n",
            " 18  2015 [YR2015]  2868 non-null   object\n",
            " 19  2016 [YR2016]  2868 non-null   object\n",
            " 20  2017 [YR2017]  2868 non-null   object\n",
            " 21  2018 [YR2018]  2868 non-null   object\n",
            " 22  2019 [YR2019]  2868 non-null   object\n",
            " 23  2020 [YR2020]  2868 non-null   object\n",
            "dtypes: object(24)\n",
            "memory usage: 538.8+ KB\n"
          ],
          "name": "stdout"
        }
      ]
    },
    {
      "cell_type": "code",
      "metadata": {
        "colab": {
          "base_uri": "https://localhost:8080/",
          "height": 301
        },
        "id": "zDtJv8Y7XZsQ",
        "outputId": "8e92876b-b229-4f3f-ccfd-eb7476992510"
      },
      "source": [
        "# remove rows that contain metadata\r\n",
        "wdi_data.drop(wdi_data.tail().index, inplace=True)\r\n",
        "wdi_data.tail(2)"
      ],
      "execution_count": null,
      "outputs": [
        {
          "output_type": "execute_result",
          "data": {
            "text/html": [
              "<div>\n",
              "<style scoped>\n",
              "    .dataframe tbody tr th:only-of-type {\n",
              "        vertical-align: middle;\n",
              "    }\n",
              "\n",
              "    .dataframe tbody tr th {\n",
              "        vertical-align: top;\n",
              "    }\n",
              "\n",
              "    .dataframe thead th {\n",
              "        text-align: right;\n",
              "    }\n",
              "</style>\n",
              "<table border=\"1\" class=\"dataframe\">\n",
              "  <thead>\n",
              "    <tr style=\"text-align: right;\">\n",
              "      <th></th>\n",
              "      <th>Country Name</th>\n",
              "      <th>Country Code</th>\n",
              "      <th>Series Name</th>\n",
              "      <th>Series Code</th>\n",
              "      <th>2001 [YR2001]</th>\n",
              "      <th>2002 [YR2002]</th>\n",
              "      <th>2003 [YR2003]</th>\n",
              "      <th>2004 [YR2004]</th>\n",
              "      <th>2005 [YR2005]</th>\n",
              "      <th>2006 [YR2006]</th>\n",
              "      <th>2007 [YR2007]</th>\n",
              "      <th>2008 [YR2008]</th>\n",
              "      <th>2009 [YR2009]</th>\n",
              "      <th>2010 [YR2010]</th>\n",
              "      <th>2011 [YR2011]</th>\n",
              "      <th>2012 [YR2012]</th>\n",
              "      <th>2013 [YR2013]</th>\n",
              "      <th>2014 [YR2014]</th>\n",
              "      <th>2015 [YR2015]</th>\n",
              "      <th>2016 [YR2016]</th>\n",
              "      <th>2017 [YR2017]</th>\n",
              "      <th>2018 [YR2018]</th>\n",
              "      <th>2019 [YR2019]</th>\n",
              "      <th>2020 [YR2020]</th>\n",
              "    </tr>\n",
              "  </thead>\n",
              "  <tbody>\n",
              "    <tr>\n",
              "      <th>2866</th>\n",
              "      <td>Nepal</td>\n",
              "      <td>NPL</td>\n",
              "      <td>Women's share of population ages 15+ living wi...</td>\n",
              "      <td>SH.DYN.AIDS.FE.ZS</td>\n",
              "      <td>29.3</td>\n",
              "      <td>29.4</td>\n",
              "      <td>29.4</td>\n",
              "      <td>29.3</td>\n",
              "      <td>29.2</td>\n",
              "      <td>29.2</td>\n",
              "      <td>29.3</td>\n",
              "      <td>29.8</td>\n",
              "      <td>30.6</td>\n",
              "      <td>31.7</td>\n",
              "      <td>33</td>\n",
              "      <td>34.5</td>\n",
              "      <td>36.1</td>\n",
              "      <td>37.6</td>\n",
              "      <td>38.7</td>\n",
              "      <td>39.4</td>\n",
              "      <td>39.9</td>\n",
              "      <td>40.1</td>\n",
              "      <td>40</td>\n",
              "      <td>..</td>\n",
              "    </tr>\n",
              "    <tr>\n",
              "      <th>2867</th>\n",
              "      <td>Nepal</td>\n",
              "      <td>NPL</td>\n",
              "      <td>Young people (ages 15-24) newly infected with HIV</td>\n",
              "      <td>SH.HIV.INCD.YG</td>\n",
              "      <td>1000</td>\n",
              "      <td>1000</td>\n",
              "      <td>1000</td>\n",
              "      <td>1000</td>\n",
              "      <td>1000</td>\n",
              "      <td>500</td>\n",
              "      <td>500</td>\n",
              "      <td>500</td>\n",
              "      <td>500</td>\n",
              "      <td>500</td>\n",
              "      <td>500</td>\n",
              "      <td>500</td>\n",
              "      <td>500</td>\n",
              "      <td>200</td>\n",
              "      <td>200</td>\n",
              "      <td>200</td>\n",
              "      <td>200</td>\n",
              "      <td>200</td>\n",
              "      <td>200</td>\n",
              "      <td>..</td>\n",
              "    </tr>\n",
              "  </tbody>\n",
              "</table>\n",
              "</div>"
            ],
            "text/plain": [
              "     Country Name Country Code  ... 2019 [YR2019] 2020 [YR2020]\n",
              "2866        Nepal          NPL  ...            40            ..\n",
              "2867        Nepal          NPL  ...           200            ..\n",
              "\n",
              "[2 rows x 24 columns]"
            ]
          },
          "metadata": {
            "tags": []
          },
          "execution_count": 158
        }
      ]
    },
    {
      "cell_type": "code",
      "metadata": {
        "colab": {
          "base_uri": "https://localhost:8080/"
        },
        "id": "qvZ1TCV3Wg86",
        "outputId": "b13536c6-5aa3-4460-c1f8-bb71f3d84935"
      },
      "source": [
        "# drop unnnecessary columns\r\n",
        "cols_to_drop = [col for col in wdi_data.columns if 'code' in col.lower()]\r\n",
        "wdi_data.drop(cols_to_drop, axis=1, inplace=True)\r\n",
        "wdi_data.columns"
      ],
      "execution_count": null,
      "outputs": [
        {
          "output_type": "execute_result",
          "data": {
            "text/plain": [
              "Index(['Country Name', 'Series Name', '2001 [YR2001]', '2002 [YR2002]',\n",
              "       '2003 [YR2003]', '2004 [YR2004]', '2005 [YR2005]', '2006 [YR2006]',\n",
              "       '2007 [YR2007]', '2008 [YR2008]', '2009 [YR2009]', '2010 [YR2010]',\n",
              "       '2011 [YR2011]', '2012 [YR2012]', '2013 [YR2013]', '2014 [YR2014]',\n",
              "       '2015 [YR2015]', '2016 [YR2016]', '2017 [YR2017]', '2018 [YR2018]',\n",
              "       '2019 [YR2019]', '2020 [YR2020]'],\n",
              "      dtype='object')"
            ]
          },
          "metadata": {
            "tags": []
          },
          "execution_count": 159
        }
      ]
    },
    {
      "cell_type": "code",
      "metadata": {
        "colab": {
          "base_uri": "https://localhost:8080/"
        },
        "id": "N0j9IllXYO4Q",
        "outputId": "7a0e9368-b183-46da-b1cc-2093fa13e138"
      },
      "source": [
        "# rename columns\r\n",
        "import re\r\n",
        "\r\n",
        "names = wdi_data.columns[:2].tolist()\r\n",
        "years = [int(re.sub(r\" \\[\\w+\\]$\", \"\", year)) for year in wdi_data.columns[2:]]\r\n",
        "\r\n",
        "wdi_data.columns = names + years\r\n",
        "wdi_data.columns"
      ],
      "execution_count": null,
      "outputs": [
        {
          "output_type": "execute_result",
          "data": {
            "text/plain": [
              "Index(['Country Name',  'Series Name',           2001,           2002,\n",
              "                 2003,           2004,           2005,           2006,\n",
              "                 2007,           2008,           2009,           2010,\n",
              "                 2011,           2012,           2013,           2014,\n",
              "                 2015,           2016,           2017,           2018,\n",
              "                 2019,           2020],\n",
              "      dtype='object')"
            ]
          },
          "metadata": {
            "tags": []
          },
          "execution_count": 160
        }
      ]
    },
    {
      "cell_type": "code",
      "metadata": {
        "colab": {
          "base_uri": "https://localhost:8080/"
        },
        "id": "wUtbdV32PMbn",
        "outputId": "d0c703bf-e8b9-41e9-d75f-81b49643befb"
      },
      "source": [
        "# denote missing values appropriately\r\n",
        "wdi_data.replace('..', np.nan, inplace=True)\r\n",
        "wdi_data.isna().sum()"
      ],
      "execution_count": null,
      "outputs": [
        {
          "output_type": "execute_result",
          "data": {
            "text/plain": [
              "Country Name       0\n",
              "Series Name        0\n",
              "2001            1227\n",
              "2002            1223\n",
              "2003            1118\n",
              "2004            1162\n",
              "2005            1013\n",
              "2006            1030\n",
              "2007            1046\n",
              "2008             983\n",
              "2009            1021\n",
              "2010             973\n",
              "2011             999\n",
              "2012            1021\n",
              "2013            1040\n",
              "2014             824\n",
              "2015             914\n",
              "2016             915\n",
              "2017            1093\n",
              "2018            1255\n",
              "2019            1468\n",
              "2020            2828\n",
              "dtype: int64"
            ]
          },
          "metadata": {
            "tags": []
          },
          "execution_count": 162
        }
      ]
    },
    {
      "cell_type": "code",
      "metadata": {
        "colab": {
          "base_uri": "https://localhost:8080/"
        },
        "id": "jN1CjJUOmiCM",
        "outputId": "694e05c2-429e-4ac3-c34c-4d14f7cbbae1"
      },
      "source": [
        "# convert columns to appropriate data types\r\n",
        "wdi_data[names] = wdi_data[names].astype(\"category\")\r\n",
        "wdi_data[years] = wdi_data[years].astype(\"float\")\r\n",
        "wdi_data.info()"
      ],
      "execution_count": null,
      "outputs": [
        {
          "output_type": "stream",
          "text": [
            "<class 'pandas.core.frame.DataFrame'>\n",
            "Int64Index: 2868 entries, 0 to 2867\n",
            "Data columns (total 22 columns):\n",
            " #   Column        Non-Null Count  Dtype   \n",
            "---  ------        --------------  -----   \n",
            " 0   Country Name  2868 non-null   category\n",
            " 1   Series Name   2868 non-null   category\n",
            " 2   2001          1641 non-null   float64 \n",
            " 3   2002          1645 non-null   float64 \n",
            " 4   2003          1750 non-null   float64 \n",
            " 5   2004          1706 non-null   float64 \n",
            " 6   2005          1855 non-null   float64 \n",
            " 7   2006          1838 non-null   float64 \n",
            " 8   2007          1822 non-null   float64 \n",
            " 9   2008          1885 non-null   float64 \n",
            " 10  2009          1847 non-null   float64 \n",
            " 11  2010          1895 non-null   float64 \n",
            " 12  2011          1869 non-null   float64 \n",
            " 13  2012          1847 non-null   float64 \n",
            " 14  2013          1828 non-null   float64 \n",
            " 15  2014          2044 non-null   float64 \n",
            " 16  2015          1954 non-null   float64 \n",
            " 17  2016          1953 non-null   float64 \n",
            " 18  2017          1775 non-null   float64 \n",
            " 19  2018          1613 non-null   float64 \n",
            " 20  2019          1400 non-null   float64 \n",
            " 21  2020          40 non-null     float64 \n",
            "dtypes: category(2), float64(20)\n",
            "memory usage: 530.2 KB\n"
          ],
          "name": "stdout"
        }
      ]
    },
    {
      "cell_type": "markdown",
      "metadata": {
        "id": "y8X1obhaSViv"
      },
      "source": [
        "There are so many missing values. But let's see what we can do with the data."
      ]
    },
    {
      "cell_type": "markdown",
      "metadata": {
        "id": "9zdvWlz1rSQp"
      },
      "source": [
        "### Employment by sector"
      ]
    },
    {
      "cell_type": "code",
      "metadata": {
        "id": "1J80-jNaBtVA"
      },
      "source": [
        "sectors = ['agriculture', 'industry', 'services']\r\n",
        "gender = ['male', 'female']"
      ],
      "execution_count": null,
      "outputs": []
    },
    {
      "cell_type": "code",
      "metadata": {
        "id": "GLn2POHTTLN6"
      },
      "source": [
        "# function to match column values with a string\r\n",
        "def match_column_values(df, column, string, case=False):\r\n",
        "  return df[df[column].str.contains(string, case=case)]"
      ],
      "execution_count": null,
      "outputs": []
    },
    {
      "cell_type": "code",
      "metadata": {
        "colab": {
          "base_uri": "https://localhost:8080/",
          "height": 111
        },
        "id": "V_KONb6fXRvw",
        "outputId": "91156284-1738-4569-dd3f-1f039d027077"
      },
      "source": [
        "# get data on employment\r\n",
        "employment_data = match_column_values(wdi_data, 'Series Name', 'employment')\r\n",
        "employment_data.head(2)"
      ],
      "execution_count": null,
      "outputs": [
        {
          "output_type": "execute_result",
          "data": {
            "text/html": [
              "<div>\n",
              "<style scoped>\n",
              "    .dataframe tbody tr th:only-of-type {\n",
              "        vertical-align: middle;\n",
              "    }\n",
              "\n",
              "    .dataframe tbody tr th {\n",
              "        vertical-align: top;\n",
              "    }\n",
              "\n",
              "    .dataframe thead th {\n",
              "        text-align: right;\n",
              "    }\n",
              "</style>\n",
              "<table border=\"1\" class=\"dataframe\">\n",
              "  <thead>\n",
              "    <tr style=\"text-align: right;\">\n",
              "      <th></th>\n",
              "      <th>Country Name</th>\n",
              "      <th>Series Name</th>\n",
              "      <th>2001</th>\n",
              "      <th>2002</th>\n",
              "      <th>2003</th>\n",
              "      <th>2004</th>\n",
              "      <th>2005</th>\n",
              "      <th>2006</th>\n",
              "      <th>2007</th>\n",
              "      <th>2008</th>\n",
              "      <th>2009</th>\n",
              "      <th>2010</th>\n",
              "      <th>2011</th>\n",
              "      <th>2012</th>\n",
              "      <th>2013</th>\n",
              "      <th>2014</th>\n",
              "      <th>2015</th>\n",
              "      <th>2016</th>\n",
              "      <th>2017</th>\n",
              "      <th>2018</th>\n",
              "      <th>2019</th>\n",
              "      <th>2020</th>\n",
              "    </tr>\n",
              "  </thead>\n",
              "  <tbody>\n",
              "    <tr>\n",
              "      <th>16</th>\n",
              "      <td>Kenya</td>\n",
              "      <td>Adequacy of unemployment benefits and ALMP (% ...</td>\n",
              "      <td>NaN</td>\n",
              "      <td>NaN</td>\n",
              "      <td>NaN</td>\n",
              "      <td>NaN</td>\n",
              "      <td>NaN</td>\n",
              "      <td>NaN</td>\n",
              "      <td>NaN</td>\n",
              "      <td>NaN</td>\n",
              "      <td>NaN</td>\n",
              "      <td>NaN</td>\n",
              "      <td>NaN</td>\n",
              "      <td>NaN</td>\n",
              "      <td>NaN</td>\n",
              "      <td>NaN</td>\n",
              "      <td>NaN</td>\n",
              "      <td>NaN</td>\n",
              "      <td>NaN</td>\n",
              "      <td>NaN</td>\n",
              "      <td>NaN</td>\n",
              "      <td>NaN</td>\n",
              "    </tr>\n",
              "    <tr>\n",
              "      <th>116</th>\n",
              "      <td>Kenya</td>\n",
              "      <td>Benefit incidence of unemployment benefits and...</td>\n",
              "      <td>NaN</td>\n",
              "      <td>NaN</td>\n",
              "      <td>NaN</td>\n",
              "      <td>NaN</td>\n",
              "      <td>NaN</td>\n",
              "      <td>NaN</td>\n",
              "      <td>NaN</td>\n",
              "      <td>NaN</td>\n",
              "      <td>NaN</td>\n",
              "      <td>NaN</td>\n",
              "      <td>NaN</td>\n",
              "      <td>NaN</td>\n",
              "      <td>NaN</td>\n",
              "      <td>NaN</td>\n",
              "      <td>NaN</td>\n",
              "      <td>NaN</td>\n",
              "      <td>NaN</td>\n",
              "      <td>NaN</td>\n",
              "      <td>NaN</td>\n",
              "      <td>NaN</td>\n",
              "    </tr>\n",
              "  </tbody>\n",
              "</table>\n",
              "</div>"
            ],
            "text/plain": [
              "    Country Name                                        Series Name  ...  2019  2020\n",
              "16         Kenya  Adequacy of unemployment benefits and ALMP (% ...  ...   NaN   NaN\n",
              "116        Kenya  Benefit incidence of unemployment benefits and...  ...   NaN   NaN\n",
              "\n",
              "[2 rows x 22 columns]"
            ]
          },
          "metadata": {
            "tags": []
          },
          "execution_count": 168
        }
      ]
    },
    {
      "cell_type": "code",
      "metadata": {
        "colab": {
          "base_uri": "https://localhost:8080/"
        },
        "id": "2uwyhda2XiEU",
        "outputId": "4a2820db-cc72-488d-ab5a-b67842a92ec6"
      },
      "source": [
        "employment_series_names = employment_data['Series Name'].unique().tolist()\r\n",
        "employment_series_names[:3]"
      ],
      "execution_count": null,
      "outputs": [
        {
          "output_type": "execute_result",
          "data": {
            "text/plain": [
              "['Adequacy of unemployment benefits and ALMP (% of total welfare of beneficiary households)',\n",
              " 'Benefit incidence of unemployment benefits and ALMP to poorest quintile (% of total U/ALMP benefits)',\n",
              " 'Child employment in agriculture (% of economically active children ages 7-14)']"
            ]
          },
          "metadata": {
            "tags": []
          },
          "execution_count": 169
        }
      ]
    },
    {
      "cell_type": "code",
      "metadata": {
        "id": "2kszsPmlIMRx"
      },
      "source": [
        "employment_by_sector = match_column_values(employment_data, 'Series Name', ' | '.join(sectors))\r\n",
        "\r\n",
        "# separate child employment\r\n",
        "child_employment_idx = match_column_values(employment_by_sector, 'Series Name', 'child').index\r\n",
        "child_employment_by_sector = employment_by_sector.loc[child_employment_idx]\r\n",
        "employment_by_sector = employment_by_sector.drop(child_employment_idx)"
      ],
      "execution_count": null,
      "outputs": []
    },
    {
      "cell_type": "code",
      "metadata": {
        "colab": {
          "base_uri": "https://localhost:8080/",
          "height": 111
        },
        "id": "U2DThjnZJLYB",
        "outputId": "26b103c8-6d48-4978-983a-5c8e73690525"
      },
      "source": [
        "child_employment_by_sector.head(2)"
      ],
      "execution_count": null,
      "outputs": [
        {
          "output_type": "execute_result",
          "data": {
            "text/html": [
              "<div>\n",
              "<style scoped>\n",
              "    .dataframe tbody tr th:only-of-type {\n",
              "        vertical-align: middle;\n",
              "    }\n",
              "\n",
              "    .dataframe tbody tr th {\n",
              "        vertical-align: top;\n",
              "    }\n",
              "\n",
              "    .dataframe thead th {\n",
              "        text-align: right;\n",
              "    }\n",
              "</style>\n",
              "<table border=\"1\" class=\"dataframe\">\n",
              "  <thead>\n",
              "    <tr style=\"text-align: right;\">\n",
              "      <th></th>\n",
              "      <th>Country Name</th>\n",
              "      <th>Series Name</th>\n",
              "      <th>2001</th>\n",
              "      <th>2002</th>\n",
              "      <th>2003</th>\n",
              "      <th>2004</th>\n",
              "      <th>2005</th>\n",
              "      <th>2006</th>\n",
              "      <th>2007</th>\n",
              "      <th>2008</th>\n",
              "      <th>2009</th>\n",
              "      <th>2010</th>\n",
              "      <th>2011</th>\n",
              "      <th>2012</th>\n",
              "      <th>2013</th>\n",
              "      <th>2014</th>\n",
              "      <th>2015</th>\n",
              "      <th>2016</th>\n",
              "      <th>2017</th>\n",
              "      <th>2018</th>\n",
              "      <th>2019</th>\n",
              "      <th>2020</th>\n",
              "    </tr>\n",
              "  </thead>\n",
              "  <tbody>\n",
              "    <tr>\n",
              "      <th>147</th>\n",
              "      <td>Kenya</td>\n",
              "      <td>Child employment in agriculture (% of economic...</td>\n",
              "      <td>NaN</td>\n",
              "      <td>NaN</td>\n",
              "      <td>NaN</td>\n",
              "      <td>NaN</td>\n",
              "      <td>NaN</td>\n",
              "      <td>NaN</td>\n",
              "      <td>NaN</td>\n",
              "      <td>NaN</td>\n",
              "      <td>NaN</td>\n",
              "      <td>NaN</td>\n",
              "      <td>NaN</td>\n",
              "      <td>NaN</td>\n",
              "      <td>NaN</td>\n",
              "      <td>NaN</td>\n",
              "      <td>NaN</td>\n",
              "      <td>NaN</td>\n",
              "      <td>NaN</td>\n",
              "      <td>NaN</td>\n",
              "      <td>NaN</td>\n",
              "      <td>NaN</td>\n",
              "    </tr>\n",
              "    <tr>\n",
              "      <th>153</th>\n",
              "      <td>Kenya</td>\n",
              "      <td>Child employment in services (% of economicall...</td>\n",
              "      <td>NaN</td>\n",
              "      <td>NaN</td>\n",
              "      <td>NaN</td>\n",
              "      <td>NaN</td>\n",
              "      <td>NaN</td>\n",
              "      <td>NaN</td>\n",
              "      <td>NaN</td>\n",
              "      <td>NaN</td>\n",
              "      <td>NaN</td>\n",
              "      <td>NaN</td>\n",
              "      <td>NaN</td>\n",
              "      <td>NaN</td>\n",
              "      <td>NaN</td>\n",
              "      <td>NaN</td>\n",
              "      <td>NaN</td>\n",
              "      <td>NaN</td>\n",
              "      <td>NaN</td>\n",
              "      <td>NaN</td>\n",
              "      <td>NaN</td>\n",
              "      <td>NaN</td>\n",
              "    </tr>\n",
              "  </tbody>\n",
              "</table>\n",
              "</div>"
            ],
            "text/plain": [
              "    Country Name                                        Series Name  ...  2019  2020\n",
              "147        Kenya  Child employment in agriculture (% of economic...  ...   NaN   NaN\n",
              "153        Kenya  Child employment in services (% of economicall...  ...   NaN   NaN\n",
              "\n",
              "[2 rows x 22 columns]"
            ]
          },
          "metadata": {
            "tags": []
          },
          "execution_count": 171
        }
      ]
    },
    {
      "cell_type": "code",
      "metadata": {
        "colab": {
          "base_uri": "https://localhost:8080/",
          "height": 250
        },
        "id": "1Iz2xP8XOFF-",
        "outputId": "4ec5f43e-d31e-4c25-e1de-bc8654f1d21f"
      },
      "source": [
        "employment_by_sector.head(2)"
      ],
      "execution_count": null,
      "outputs": [
        {
           "output_type": "execute_result",
          "data": {
            "text/html": [
              "<div>\n",
              "<style scoped>\n",
              "    .dataframe tbody tr th:only-of-type {\n",
              "        vertical-align: middle;\n",
              "    }\n",
              "\n",
              "    .dataframe tbody tr th {\n",
              "        vertical-align: top;\n",
              "    }\n",
              "\n",
              "    .dataframe thead th {\n",
              "        text-align: right;\n",
              "    }\n",
              "</style>\n",
              "<table border=\"1\" class=\"dataframe\">\n",
              "  <thead>\n",
              "    <tr style=\"text-align: right;\">\n",
              "      <th></th>\n",
              "      <th>Country Name</th>\n",
              "      <th>Series Name</th>\n",
              "      <th>2001</th>\n",
              "      <th>2002</th>\n",
              "      <th>2003</th>\n",
              "      <th>2004</th>\n",
              "      <th>2005</th>\n",
              "      <th>2006</th>\n",
              "      <th>2007</th>\n",
              "      <th>2008</th>\n",
              "      <th>2009</th>\n",
              "      <th>2010</th>\n",
              "      <th>2011</th>\n",
              "      <th>2012</th>\n",
              "      <th>2013</th>\n",
              "      <th>2014</th>\n",
              "      <th>2015</th>\n",
              "      <th>2016</th>\n",
              "      <th>2017</th>\n",
              "      <th>2018</th>\n",
              "      <th>2019</th>\n",
              "      <th>2020</th>\n",
              "    </tr>\n",
              "  </thead>\n",
              "  <tbody>\n",
              "    <tr>\n",
              "      <th>359</th>\n",
              "      <td>Kenya</td>\n",
              "      <td>Employment in agriculture (% of total employme...</td>\n",
              "      <td>51.50</td>\n",
              "      <td>54.279999</td>\n",
              "      <td>56.759998</td>\n",
              "      <td>58.93</td>\n",
              "      <td>61.060001</td>\n",
              "      <td>61.139999</td>\n",
              "      <td>60.970001</td>\n",
              "      <td>61.110001</td>\n",
              "      <td>60.939999</td>\n",
              "      <td>60.32</td>\n",
              "      <td>59.740002</td>\n",
              "      <td>59.220001</td>\n",
              "      <td>58.59</td>\n",
              "      <td>57.939999</td>\n",
              "      <td>57.259998</td>\n",
              "      <td>56.529999</td>\n",
              "      <td>55.860001</td>\n",
              "      <td>55.080002</td>\n",
              "      <td>54.34</td>\n",
              "      <td>NaN</td>\n",
              "    </tr>\n",
              "    <tr>\n",
              "      <th>362</th>\n",
              "      <td>Kenya</td>\n",
              "      <td>Employment in industry (% of total employment)...</td>\n",
              "      <td>10.19</td>\n",
              "      <td>9.050000</td>\n",
              "      <td>8.090000</td>\n",
              "      <td>7.34</td>\n",
              "      <td>6.700000</td>\n",
              "      <td>6.460000</td>\n",
              "      <td>6.290000</td>\n",
              "      <td>6.130000</td>\n",
              "      <td>6.040000</td>\n",
              "      <td>6.01</td>\n",
              "      <td>6.010000</td>\n",
              "      <td>6.010000</td>\n",
              "      <td>6.03</td>\n",
              "      <td>6.060000</td>\n",
              "      <td>6.090000</td>\n",
              "      <td>6.130000</td>\n",
              "      <td>6.160000</td>\n",
              "      <td>6.190000</td>\n",
              "      <td>6.22</td>\n",
              "      <td>NaN</td>\n",
              "    </tr>\n",
              "  </tbody>\n",
              "</table>\n",
              "</div>"
            ],
            "text/plain": [
              "    Country Name  ... 2020\n",
              "359        Kenya  ...  NaN\n",
              "362        Kenya  ...  NaN\n",
              "\n",
              "[2 rows x 22 columns]"
            ]
          },
          "metadata": {
            "tags": []
          },
          "execution_count": 172
        }
      ]
    },
    {
      "cell_type": "code",
      "metadata": {
        "colab": {
          "base_uri": "https://localhost:8080/"
        },
        "id": "aL_18gFqSC9u",
        "outputId": "7aa11709-e1a8-4f3b-e218-3b43fce427c5"
      },
      "source": [
        "employment_by_sector.isna().sum()"
      ],
      "execution_count": null,
      "outputs": [
        {
          "output_type": "execute_result",
          "data": {
            "text/plain": [
              "Country Name     0\n",
              "Series Name      0\n",
              "2001             0\n",
              "2002             0\n",
              "2003             0\n",
              "2004             0\n",
              "2005             0\n",
              "2006             0\n",
              "2007             0\n",
              "2008             0\n",
              "2009             0\n",
              "2010             0\n",
              "2011             0\n",
              "2012             0\n",
              "2013             0\n",
              "2014             0\n",
              "2015             0\n",
              "2016             0\n",
              "2017             0\n",
              "2018             0\n",
              "2019             0\n",
              "2020            10\n",
              "dtype: int64"
            ]
          },
          "metadata": {
            "tags": []
          },
          "execution_count": 173
        }
      ]
    },
    {
      "cell_type": "code",
      "metadata": {
        "id": "14DX1OdmSpp2"
      },
      "source": [
        "agriculture = match_column_values(employment_by_sector, 'Series Name', 'agriculture')\r\n",
        "industry = match_column_values(employment_by_sector, 'Series Name', 'industry')\r\n",
        "services = match_column_values(employment_by_sector, 'Series Name', 'services')"
      ],
      "execution_count": null,
      "outputs": []
    },
    {
      "cell_type": "code",
      "metadata": {
        "id": "SdHpX9LLSPV4"
      },
      "source": [
        "from matplotlib import pyplot as plt\r\n",
        "import seaborn as sns\r\n",
        "\r\n",
        "sns.set()\r\n",
        "plt.rcParams[\"figure.figsize\"] = (14,8)"
      ],
      "execution_count": null,
      "outputs": []
    },
    {
      "cell_type": "markdown",
      "metadata": {
        "id": "bWsHVGbSPGFY"
      },
      "source": [
        "## Insights"
      ]
    },
    {
      "cell_type": "markdown",
      "metadata": {
        "id": "avmuJ1d2P5pA"
      },
      "source": [
        "### 1. Annual employment rate\r\n",
        "The graphs below represents the comparison between Employment Rates per year for two countries: Kenya and Nepal. It illustrates how the employment data for these countries have changed over the year. The vertical axis shows the Industry Based Employment Rate. And the horizontal axis represents the total span of years from 2001 to 2019. There graph illustrates the comparison of two datasets: Kenya and Nepal. The blue dots depict the graph for Kenya, and the orange dots represent Nepal. "
      ]
    },
    {
      "cell_type": "markdown",
      "metadata": {
        "id": "pK6MkrnTzuRJ"
      },
      "source": [
        "#### a) In the agriculture sector"
      ]
    },
    {
      "cell_type": "code",
      "metadata": {
        "colab": {
          "base_uri": "https://localhost:8080/",
          "height": 535
        },
        "id": "owh5EE87Svmz",
        "outputId": "1e1c7beb-4e31-4224-940b-cb5be23831b1"
      },
      "source": [
        "agriculture_employment = agriculture.T.reset_index().drop([0,1]).set_index('index').dropna()\r\n",
        "agriculture_employment.columns = ['Kenya', 'Nepal']\r\n",
        "agriculture_employment.plot(marker = 'o')\r\n",
        "plt.title('Annual employment rate in the agriculture sector', fontsize = 12.5)\r\n",
        "plt.xlabel('Year', fontsize = 12.5)\r\n",
        "plt.ylabel('Employment Rate', fontsize = 12.5)"
      ],
      "execution_count": null,
      "outputs": [
        {
          "output_type": "execute_result",
          "data": {
            "text/plain": [
              "Text(0, 0.5, 'Employment Rate')"
            ]
          },
          "metadata": {
            "tags": []
          },
          "execution_count": 176
        },
        {
          "output_type": "display_data",
          "data": {
            "image/png": "[encoded data removed]",
            "text/plain": [
              "<Figure size 1008x576 with 1 Axes>"
            ]
          },
          "metadata": {
            "tags": []
          }
        }
      ]
    },
    {
      "cell_type": "markdown",
      "metadata": {
        "id": "4HKhhgRdy7Gw"
      },
      "source": [
        "It can be seen that over the span of 19 years, there's a *steady fall* in agricultural employment rate for Nepal. For instance, the rate decreased by **10.21** percentage points from *74.59* to *64.38* percent. Whereas, for Kenya, there's a *gradual increase* till the year 2005 - it had risen by **9.56** percentage points reaching *61.06* from an initial *51.50* percent. It fluctuated around the same range for a few years until 2010. Then, it started to *steadily decline* with an fall of **5.98** percentage points for the past 9 years reaching *54.34* from *60.32* percent. "
      ]
    },
    {
      "cell_type": "markdown",
      "metadata": {
        "id": "PqnpdncbhoGP"
      },
      "source": [
        "#### b) In the industry sector\r\n",
        "\r\n",
        "\r\n",
        "\r\n"
      ]
    },
    {
      "cell_type": "code",
      "metadata": {
        "colab": {
          "base_uri": "https://localhost:8080/",
          "height": 535
        },
        "id": "Mq_PaqSXlT1g",
        "outputId": "ec5275bb-7d12-4f68-e3d3-98c17bedd203"
      },
      "source": [
        "industry_employment = industry.T.reset_index().drop([0,1]).set_index('index').dropna()\r\n",
        "industry_employment.columns = ['Kenya', 'Nepal']\r\n",
        "industry_employment.plot(marker = 'o')\r\n",
        "plt.title('Annual employment rate in the industry sector', fontsize = 12.5)\r\n",
        "plt.xlabel('Year', fontsize = 12.5)\r\n",
        "plt.ylabel('Employment Rate', fontsize = 12.5)"
      ],
      "execution_count": null,
      "outputs": [
        {
          "output_type": "execute_result",
          "data": {
            "text/plain": [
              "Text(0, 0.5, 'Employment Rate')"
            ]
          },
          "metadata": {
            "tags": []
          },
          "execution_count": 177
        },
        {
          "output_type": "display_data",
          "data": {
            "image/png": "[encoded data removed]",
            "text/plain": [
              "<Figure size 1008x576 with 1 Axes>"
            ]
          },
          "metadata": {
            "tags": []
          }
        }
      ]
    },
    {
      "cell_type": "markdown",
      "metadata": {
        "id": "6RijdYGJPxdj"
      },
      "source": [
        "If we look over time, we can see that there's a *steady increase* in industrial employment rate for Nepal. For instance, over 19 years, the rate increased by **4.13** percentage points from *10.98* to *15.11*. Whereas, for Kenya, there's a *gradual exponential decline* till the year 2012 - it has decreased by **4.18** percentage points reaching *6.01* from *10.09*. But after that it's slowly starting to climb with an increase of **0.21** percentage points for the past 8 years ending up at *6.22*. "
      ]
    },
    {
      "cell_type": "markdown",
      "metadata": {
        "id": "IBY4VJzXQwoK"
      },
      "source": [
        "#### c) In the service sector"
      ]
    },
    {
      "cell_type": "code",
      "metadata": {
        "id": "LyEfH9G9paVh",
        "colab": {
          "base_uri": "https://localhost:8080/",
          "height": 535
        },
        "outputId": "4062cc6d-52e1-45fb-d446-841aaaa87b91"
      },
      "source": [
        "services_total_employment = match_column_values(services, 'Series Name', 'total')\r\n",
        "services_total_employment = services_total_employment.T.reset_index().drop([0,1]).set_index('index').dropna()\r\n",
        "services_total_employment.columns = ['Kenya', 'Nepal']\r\n",
        "services_total_employment.plot(marker = 'o')\r\n",
        "plt.title('Annual employment rate in the services sector', fontsize = 12.5)\r\n",
        "plt.xlabel('Year', fontsize = 12.5)\r\n",
        "plt.ylabel('Employment Rate', fontsize = 12.5)"
      ],
      "execution_count": 184,
      "outputs": [
        {
          "output_type": "execute_result",
          "data": {
            "text/plain": [
              "Text(0, 0.5, 'Employment Rate')"
            ]
          },
          "metadata": {
            "tags": []
          },
          "execution_count": 184
        },
        {
          "output_type": "display_data",
          "data": {
            "image/png": "[encoded data removed]",
            "text/plain": [
              "<Figure size 1008x576 with 1 Axes>"
            ]
          },
          "metadata": {
            "tags": []
          }
        }
      ]
    },
    {
      "cell_type": "markdown",
      "metadata": {
        "id": "wf_FH0C2nNxW"
      },
      "source": [
        "If we look over time, we can see that there's a *slow increase* in services employment rate for **Nepal**. Over 19 years, the rate increased by **6.09** percentage points from *14.43* to *14.43*. Whereas, for **Kenya**, there was a *sharp decline* till the year 2005 - it decreased by **6.08** percentage points reaching *32.24* from *32.24*. But after that it's slowly started climbing with an increase of **7.2** percentage points for the past 14 years ending up at *39.44*. "
      ]
    },
    {
      "cell_type": "code",
      "metadata": {
        "colab": {
          "base_uri": "https://localhost:8080/",
          "height": 535
        },
        "id": "kAGtnmKkiu7m",
        "outputId": "59534ac1-bca6-4f25-d3e7-b06d2c211f88"
      },
      "source": [
        "services_employment_by_gender = match_column_values(services, 'Series Name', 'male')\r\n",
        "services_employment_by_gender = services_employment_by_gender.T.reset_index().drop([0,1]).set_index('index').dropna()\r\n",
        "services_employment_by_gender.columns = ['Kenyan female', 'Kenyan male', 'Nepali female', 'Nepali male']\r\n",
        "services_employment_by_gender.plot(marker = 'o')\r\n",
        "plt.title('Annual employment rate in the services sector (male and female)', fontsize = 12.5)\r\n",
        "plt.xlabel('Year', fontsize = 12.5)\r\n",
        "plt.ylabel('Employment Rate', fontsize = 12.5)"
      ],
      "execution_count": 183,
      "outputs": [
        {
          "output_type": "execute_result",
          "data": {
            "text/plain": [
              "Text(0, 0.5, 'Employment Rate')"
            ]
          },
          "metadata": {
            "tags": []
          },
          "execution_count": 183
        },
        {
          "output_type": "display_data",
          "data": {
            "image/png": "[encoded data removed]",
            "text/plain": [
              "<Figure size 1008x576 with 1 Axes>"
            ]
          },
          "metadata": {
            "tags": []
          }
        }
      ]
    },
    {
      "cell_type": "markdown",
      "metadata": {
        "id": "YVse_0Kqo_ZX"
      },
      "source": [
        "The graph above represents a collective data for **Kenya** and **Nepal**'s annual employment rate in the services sector for both male and female. \r\n",
        "For **Nepal**, we can see that for both, there is a *slow increase* in the services employment rate. For females, the rate increased by **7.15** percentage points from *10.15* to *17.3*. And the rate for males increased by **6.09** reaching *24.58* from *18.49*. However, we can still see a disparity between the line graphs for males and females, although they're both increasing.  \r\n",
        "Whereas, if we were to look into **Kenya**, the difference in employment rate for services is not as big. For both males and females, the rate steadily decreased by **7.31** and **4.88** percentage points respectively. However, after that, the rate started *slowly climbing* for males ending up at *39.82* with and increase of **5.23** percentage points. For females, the rate steadily increased by **9.45** percentage points reaching *39.04* in over 14 years. "
      ]
    }
  ]
}
